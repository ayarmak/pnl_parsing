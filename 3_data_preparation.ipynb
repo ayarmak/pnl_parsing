{
 "cells": [
  {
   "cell_type": "markdown",
   "metadata": {},
   "source": [
    "# 3. Data Preparation"
   ]
  },
  {
   "cell_type": "markdown",
   "metadata": {},
   "source": [
    "The first step in data pre-processing would involve changing the format of our data set to prepare it for feature selection. This phase starts with a raw data set of two strings per company (one for the full financial report and one for the Profit & Loss Statement part of it) and generates a labeled data set where each row is one word within a report (pre-encoding)."
   ]
  },
  {
   "cell_type": "markdown",
   "metadata": {},
   "source": [
    "## Table of Contents"
   ]
  },
  {
   "cell_type": "markdown",
   "metadata": {},
   "source": [
    "1. [Load raw data](#load)\n",
    "1. [Define training and testing sets](#Define-training-and-testing-sets)\n",
    "1. [Split into sections and word lists](#Split-into-sections-and-word-lists)\n",
    "1. [Assign labels to each section](#Assign-labels-to-each-section)\n",
    "1. [Clean up the data](#Clean-up-the-data)\n",
    "1. [Analyze the data](#Analyze-the-data)\n",
    "1. [Split word lists into individual words](#Split-word-lists-into-individual-words)\n",
    "1. [Save pre-processed data](#Save-pre-processed-data)"
   ]
  },
  {
   "cell_type": "code",
   "execution_count": 1,
   "metadata": {},
   "outputs": [],
   "source": [
    "import numpy as np\n",
    "import pandas as pd\n",
    "import re\n",
    "import sys\n",
    "from collections import Counter\n",
    "import matplotlib.pyplot as plt\n",
    "import seaborn as sns\n",
    "%matplotlib inline"
   ]
  },
  {
   "cell_type": "markdown",
   "metadata": {},
   "source": [
    "## Load raw data"
   ]
  },
  {
   "cell_type": "code",
   "execution_count": 2,
   "metadata": {},
   "outputs": [],
   "source": [
    "df = pd.read_csv('labeled_reports.csv')"
   ]
  },
  {
   "cell_type": "code",
   "execution_count": 3,
   "metadata": {},
   "outputs": [
    {
     "data": {
      "text/html": [
       "<div>\n",
       "<style scoped>\n",
       "    .dataframe tbody tr th:only-of-type {\n",
       "        vertical-align: middle;\n",
       "    }\n",
       "\n",
       "    .dataframe tbody tr th {\n",
       "        vertical-align: top;\n",
       "    }\n",
       "\n",
       "    .dataframe thead th {\n",
       "        text-align: right;\n",
       "    }\n",
       "</style>\n",
       "<table border=\"1\" class=\"dataframe\">\n",
       "  <thead>\n",
       "    <tr style=\"text-align: right;\">\n",
       "      <th></th>\n",
       "      <th>dir</th>\n",
       "      <th>report</th>\n",
       "      <th>pnl</th>\n",
       "    </tr>\n",
       "  </thead>\n",
       "  <tbody>\n",
       "    <tr>\n",
       "      <th>0</th>\n",
       "      <td>12 Retech Corp</td>\n",
       "      <td>\\n10-K\\n1\\nform10-k.htm\\nUNITED\\nSTATES\\nSECUR...</td>\n",
       "      <td>3\\n12\\nRETECH CORPORATION\\nConsolidated\\nState...</td>\n",
       "    </tr>\n",
       "    <tr>\n",
       "      <th>1</th>\n",
       "      <td>1847 Holdings LLC</td>\n",
       "      <td>\\n10-K\\n1\\nefsh_10k.htm\\nFORM 10-K\\nefsh_10k.h...</td>\n",
       "      <td>3\\nTable of Contents\\n1847 HOLDINGS LLC\\nCONSO...</td>\n",
       "    </tr>\n",
       "    <tr>\n",
       "      <th>2</th>\n",
       "      <td>4M Carbon Fiber Corp.</td>\n",
       "      <td>\\n10-K\\n1\\nf10-k4mcarbonfiber.12.31.18.htm\\n4M...</td>\n",
       "      <td>2\\nSee accompanying notes to the consolidated ...</td>\n",
       "    </tr>\n",
       "    <tr>\n",
       "      <th>3</th>\n",
       "      <td>8X8 INC _DE_</td>\n",
       "      <td>\\n10-K\\n1\\na10-kdocument.htm\\n10-K\\nDocument\\n...</td>\n",
       "      <td>50\\nTable of Contents\\n8X8, INC.\\nCONSOLIDATED...</td>\n",
       "    </tr>\n",
       "    <tr>\n",
       "      <th>4</th>\n",
       "      <td>AAC Holdings, Inc.</td>\n",
       "      <td>\\n10-K\\n1\\naac-10k_20181231.htm\\n10-K PROJECT ...</td>\n",
       "      <td>2\\nAAC HOLDINGS, Inc. \\nCONSOLIDATED STATEMENT...</td>\n",
       "    </tr>\n",
       "  </tbody>\n",
       "</table>\n",
       "</div>"
      ],
      "text/plain": [
       "                     dir                                             report  \\\n",
       "0         12 Retech Corp  \\n10-K\\n1\\nform10-k.htm\\nUNITED\\nSTATES\\nSECUR...   \n",
       "1      1847 Holdings LLC  \\n10-K\\n1\\nefsh_10k.htm\\nFORM 10-K\\nefsh_10k.h...   \n",
       "2  4M Carbon Fiber Corp.  \\n10-K\\n1\\nf10-k4mcarbonfiber.12.31.18.htm\\n4M...   \n",
       "3           8X8 INC _DE_  \\n10-K\\n1\\na10-kdocument.htm\\n10-K\\nDocument\\n...   \n",
       "4     AAC Holdings, Inc.  \\n10-K\\n1\\naac-10k_20181231.htm\\n10-K PROJECT ...   \n",
       "\n",
       "                                                 pnl  \n",
       "0  3\\n12\\nRETECH CORPORATION\\nConsolidated\\nState...  \n",
       "1  3\\nTable of Contents\\n1847 HOLDINGS LLC\\nCONSO...  \n",
       "2  2\\nSee accompanying notes to the consolidated ...  \n",
       "3  50\\nTable of Contents\\n8X8, INC.\\nCONSOLIDATED...  \n",
       "4  2\\nAAC HOLDINGS, Inc. \\nCONSOLIDATED STATEMENT...  "
      ]
     },
     "execution_count": 3,
     "metadata": {},
     "output_type": "execute_result"
    }
   ],
   "source": [
    "df.head()"
   ]
  },
  {
   "cell_type": "code",
   "execution_count": 4,
   "metadata": {},
   "outputs": [
    {
     "data": {
      "text/plain": [
       "(596, 3)"
      ]
     },
     "execution_count": 4,
     "metadata": {},
     "output_type": "execute_result"
    }
   ],
   "source": [
    "df.shape"
   ]
  },
  {
   "cell_type": "markdown",
   "metadata": {},
   "source": [
    "## Define training and testing sets"
   ]
  },
  {
   "cell_type": "markdown",
   "metadata": {},
   "source": [
    "Before performing any transformations on the original data, we need to assign training and testing labels to each company. While this step is usually performed much later, right before the modeling phase, in this case we want to make this assignment at a company level (vs. at an individual word level). And so, we need to do it now, before we convert the data set into individual words as separate data points."
   ]
  },
  {
   "cell_type": "code",
   "execution_count": 5,
   "metadata": {},
   "outputs": [],
   "source": [
    "np.random.seed(42)\n",
    "df['train'] = np.random.choice([True, False], size=df.shape[0], p=[0.8, 0.2])"
   ]
  },
  {
   "cell_type": "code",
   "execution_count": 6,
   "metadata": {
    "scrolled": false
   },
   "outputs": [
    {
     "data": {
      "text/html": [
       "<div>\n",
       "<style scoped>\n",
       "    .dataframe tbody tr th:only-of-type {\n",
       "        vertical-align: middle;\n",
       "    }\n",
       "\n",
       "    .dataframe tbody tr th {\n",
       "        vertical-align: top;\n",
       "    }\n",
       "\n",
       "    .dataframe thead th {\n",
       "        text-align: right;\n",
       "    }\n",
       "</style>\n",
       "<table border=\"1\" class=\"dataframe\">\n",
       "  <thead>\n",
       "    <tr style=\"text-align: right;\">\n",
       "      <th></th>\n",
       "      <th>dir</th>\n",
       "      <th>report</th>\n",
       "      <th>pnl</th>\n",
       "      <th>train</th>\n",
       "    </tr>\n",
       "  </thead>\n",
       "  <tbody>\n",
       "    <tr>\n",
       "      <th>0</th>\n",
       "      <td>12 Retech Corp</td>\n",
       "      <td>\\n10-K\\n1\\nform10-k.htm\\nUNITED\\nSTATES\\nSECUR...</td>\n",
       "      <td>3\\n12\\nRETECH CORPORATION\\nConsolidated\\nState...</td>\n",
       "      <td>True</td>\n",
       "    </tr>\n",
       "    <tr>\n",
       "      <th>1</th>\n",
       "      <td>1847 Holdings LLC</td>\n",
       "      <td>\\n10-K\\n1\\nefsh_10k.htm\\nFORM 10-K\\nefsh_10k.h...</td>\n",
       "      <td>3\\nTable of Contents\\n1847 HOLDINGS LLC\\nCONSO...</td>\n",
       "      <td>False</td>\n",
       "    </tr>\n",
       "    <tr>\n",
       "      <th>2</th>\n",
       "      <td>4M Carbon Fiber Corp.</td>\n",
       "      <td>\\n10-K\\n1\\nf10-k4mcarbonfiber.12.31.18.htm\\n4M...</td>\n",
       "      <td>2\\nSee accompanying notes to the consolidated ...</td>\n",
       "      <td>True</td>\n",
       "    </tr>\n",
       "    <tr>\n",
       "      <th>3</th>\n",
       "      <td>8X8 INC _DE_</td>\n",
       "      <td>\\n10-K\\n1\\na10-kdocument.htm\\n10-K\\nDocument\\n...</td>\n",
       "      <td>50\\nTable of Contents\\n8X8, INC.\\nCONSOLIDATED...</td>\n",
       "      <td>True</td>\n",
       "    </tr>\n",
       "    <tr>\n",
       "      <th>4</th>\n",
       "      <td>AAC Holdings, Inc.</td>\n",
       "      <td>\\n10-K\\n1\\naac-10k_20181231.htm\\n10-K PROJECT ...</td>\n",
       "      <td>2\\nAAC HOLDINGS, Inc. \\nCONSOLIDATED STATEMENT...</td>\n",
       "      <td>True</td>\n",
       "    </tr>\n",
       "  </tbody>\n",
       "</table>\n",
       "</div>"
      ],
      "text/plain": [
       "                     dir                                             report  \\\n",
       "0         12 Retech Corp  \\n10-K\\n1\\nform10-k.htm\\nUNITED\\nSTATES\\nSECUR...   \n",
       "1      1847 Holdings LLC  \\n10-K\\n1\\nefsh_10k.htm\\nFORM 10-K\\nefsh_10k.h...   \n",
       "2  4M Carbon Fiber Corp.  \\n10-K\\n1\\nf10-k4mcarbonfiber.12.31.18.htm\\n4M...   \n",
       "3           8X8 INC _DE_  \\n10-K\\n1\\na10-kdocument.htm\\n10-K\\nDocument\\n...   \n",
       "4     AAC Holdings, Inc.  \\n10-K\\n1\\naac-10k_20181231.htm\\n10-K PROJECT ...   \n",
       "\n",
       "                                                 pnl  train  \n",
       "0  3\\n12\\nRETECH CORPORATION\\nConsolidated\\nState...   True  \n",
       "1  3\\nTable of Contents\\n1847 HOLDINGS LLC\\nCONSO...  False  \n",
       "2  2\\nSee accompanying notes to the consolidated ...   True  \n",
       "3  50\\nTable of Contents\\n8X8, INC.\\nCONSOLIDATED...   True  \n",
       "4  2\\nAAC HOLDINGS, Inc. \\nCONSOLIDATED STATEMENT...   True  "
      ]
     },
     "execution_count": 6,
     "metadata": {},
     "output_type": "execute_result"
    }
   ],
   "source": [
    "df.head()"
   ]
  },
  {
   "cell_type": "markdown",
   "metadata": {},
   "source": [
    "## Split into sections and word lists"
   ]
  },
  {
   "cell_type": "markdown",
   "metadata": {},
   "source": [
    "The first step in making the data usable for modeling involves two steps:\n",
    "\n",
    "1. *Splitting the report into three sections*: Profit & Loss Statement (aka P&L), pre-P&L, and post-P&L. This is necessary to eventually assing correct labels to each word\n",
    "1. *Splitting each section into individual words*. This is required to then, on one hand, encode most important words as features for modeling, and, on the other hand, use each word as a separate data point to be classified into one of three categoris (based on the sections described in point (a) above).\n",
    "\n",
    "I will perform both steps by defining a couple of helper functions:"
   ]
  },
  {
   "cell_type": "code",
   "execution_count": 7,
   "metadata": {},
   "outputs": [],
   "source": [
    "def needs_word_merging(report_lst, pre_pnl_lst, pnl_lst):\n",
    "    '''Determines if the first item in the PnL part of the report is not a full word and requires merging.'''\n",
    "    \n",
    "    last_pre = len(pre_pnl_lst) - 1   # pull the last item in pre-PnL section\n",
    "    no_match_as_is = (report_lst[last_pre] != pre_pnl_lst[last_pre])   # compares it between pre-PnL and full report\n",
    "    match_if_combined = (report_lst[last_pre] == pre_pnl_lst[last_pre] + pnl_lst[0])  # check is merging fixes it\n",
    "   \n",
    "    return no_match_as_is & match_if_combined    \n",
    "\n",
    "def get_word_lists(entry):\n",
    "    '''Gets lists of words for three sections - pre-PnL, PnL, and post-Pnl - and the full report itself.'''\n",
    "    \n",
    "    # determine the starting and ending character of PnL within the full report\n",
    "    pnl_start = entry.report.index(entry.pnl)\n",
    "    pnl_len = len(entry.pnl)\n",
    "    pnl_end = pnl_start + pnl_len\n",
    "    \n",
    "    # determine pre-PnL and post-PnL sections\n",
    "    pre_pnl = entry.report[:pnl_start]\n",
    "    post_pnl = entry.report[pnl_end:]\n",
    "    \n",
    "    # split all sections - and the full report - into words\n",
    "    report_lst, pnl_lst = [entry[x].split() for x in ['report', 'pnl']]\n",
    "    pre_pnl_lst, post_pnl_lst = [x.split() for x in [pre_pnl, post_pnl]]\n",
    "\n",
    "    # check if the first item in the PnL section is a full word and correct it if it's not\n",
    "    if needs_word_merging(report_lst, pre_pnl_lst, pnl_lst):\n",
    "        pnl_lst[0] = pre_pnl_lst[-1] + pnl_lst[0]\n",
    "        pre_pnl_lst.pop()\n",
    "    \n",
    "    return report_lst, pre_pnl_lst, pnl_lst, post_pnl_lst"
   ]
  },
  {
   "cell_type": "markdown",
   "metadata": {},
   "source": [
    "Now, I can use the newly-defined `get_word_lists` method to get word lists for each section:"
   ]
  },
  {
   "cell_type": "code",
   "execution_count": 8,
   "metadata": {},
   "outputs": [],
   "source": [
    "df['report_lst'], df['pre_pnl_lst'], df['pnl_lst'], df['post_pnl_lst'] = zip(*df.apply(get_word_lists, axis=1))"
   ]
  },
  {
   "cell_type": "code",
   "execution_count": 9,
   "metadata": {},
   "outputs": [
    {
     "data": {
      "text/html": [
       "<div>\n",
       "<style scoped>\n",
       "    .dataframe tbody tr th:only-of-type {\n",
       "        vertical-align: middle;\n",
       "    }\n",
       "\n",
       "    .dataframe tbody tr th {\n",
       "        vertical-align: top;\n",
       "    }\n",
       "\n",
       "    .dataframe thead th {\n",
       "        text-align: right;\n",
       "    }\n",
       "</style>\n",
       "<table border=\"1\" class=\"dataframe\">\n",
       "  <thead>\n",
       "    <tr style=\"text-align: right;\">\n",
       "      <th></th>\n",
       "      <th>dir</th>\n",
       "      <th>report</th>\n",
       "      <th>pnl</th>\n",
       "      <th>train</th>\n",
       "      <th>report_lst</th>\n",
       "      <th>pre_pnl_lst</th>\n",
       "      <th>pnl_lst</th>\n",
       "      <th>post_pnl_lst</th>\n",
       "    </tr>\n",
       "  </thead>\n",
       "  <tbody>\n",
       "    <tr>\n",
       "      <th>0</th>\n",
       "      <td>12 Retech Corp</td>\n",
       "      <td>\\n10-K\\n1\\nform10-k.htm\\nUNITED\\nSTATES\\nSECUR...</td>\n",
       "      <td>3\\n12\\nRETECH CORPORATION\\nConsolidated\\nState...</td>\n",
       "      <td>True</td>\n",
       "      <td>[10-K, 1, form10-k.htm, UNITED, STATES, SECURI...</td>\n",
       "      <td>[10-K, 1, form10-k.htm, UNITED, STATES, SECURI...</td>\n",
       "      <td>[3, 12, RETECH, CORPORATION, Consolidated, Sta...</td>\n",
       "      <td>[12, RETECH, CORPORATION, Consolidated, Statem...</td>\n",
       "    </tr>\n",
       "    <tr>\n",
       "      <th>1</th>\n",
       "      <td>1847 Holdings LLC</td>\n",
       "      <td>\\n10-K\\n1\\nefsh_10k.htm\\nFORM 10-K\\nefsh_10k.h...</td>\n",
       "      <td>3\\nTable of Contents\\n1847 HOLDINGS LLC\\nCONSO...</td>\n",
       "      <td>False</td>\n",
       "      <td>[10-K, 1, efsh_10k.htm, FORM, 10-K, efsh_10k.h...</td>\n",
       "      <td>[10-K, 1, efsh_10k.htm, FORM, 10-K, efsh_10k.h...</td>\n",
       "      <td>[F-3, Table, of, Contents, 1847, HOLDINGS, LLC...</td>\n",
       "      <td>[Table, of, Contents, 1847, HOLDINGS, LLC, CON...</td>\n",
       "    </tr>\n",
       "    <tr>\n",
       "      <th>2</th>\n",
       "      <td>4M Carbon Fiber Corp.</td>\n",
       "      <td>\\n10-K\\n1\\nf10-k4mcarbonfiber.12.31.18.htm\\n4M...</td>\n",
       "      <td>2\\nSee accompanying notes to the consolidated ...</td>\n",
       "      <td>True</td>\n",
       "      <td>[10-K, 1, f10-k4mcarbonfiber.12.31.18.htm, 4M,...</td>\n",
       "      <td>[10-K, 1, f10-k4mcarbonfiber.12.31.18.htm, 4M,...</td>\n",
       "      <td>[F-2, See, accompanying, notes, to, the, conso...</td>\n",
       "      <td>[See, accompanying, notes, to, the, consolidat...</td>\n",
       "    </tr>\n",
       "    <tr>\n",
       "      <th>3</th>\n",
       "      <td>8X8 INC _DE_</td>\n",
       "      <td>\\n10-K\\n1\\na10-kdocument.htm\\n10-K\\nDocument\\n...</td>\n",
       "      <td>50\\nTable of Contents\\n8X8, INC.\\nCONSOLIDATED...</td>\n",
       "      <td>True</td>\n",
       "      <td>[10-K, 1, a10-kdocument.htm, 10-K, Document, T...</td>\n",
       "      <td>[10-K, 1, a10-kdocument.htm, 10-K, Document, T...</td>\n",
       "      <td>[50, Table, of, Contents, 8X8,, INC., CONSOLID...</td>\n",
       "      <td>[Table, of, Contents, 8X8,, INC., CONSOLIDATED...</td>\n",
       "    </tr>\n",
       "    <tr>\n",
       "      <th>4</th>\n",
       "      <td>AAC Holdings, Inc.</td>\n",
       "      <td>\\n10-K\\n1\\naac-10k_20181231.htm\\n10-K PROJECT ...</td>\n",
       "      <td>2\\nAAC HOLDINGS, Inc. \\nCONSOLIDATED STATEMENT...</td>\n",
       "      <td>True</td>\n",
       "      <td>[10-K, 1, aac-10k_20181231.htm, 10-K, PROJECT,...</td>\n",
       "      <td>[10-K, 1, aac-10k_20181231.htm, 10-K, PROJECT,...</td>\n",
       "      <td>[F-2, AAC, HOLDINGS,, Inc., CONSOLIDATED, STAT...</td>\n",
       "      <td>[AAC, HOLDINGS,, INC., CONSOLIDATED, BALANCE, ...</td>\n",
       "    </tr>\n",
       "  </tbody>\n",
       "</table>\n",
       "</div>"
      ],
      "text/plain": [
       "                     dir                                             report  \\\n",
       "0         12 Retech Corp  \\n10-K\\n1\\nform10-k.htm\\nUNITED\\nSTATES\\nSECUR...   \n",
       "1      1847 Holdings LLC  \\n10-K\\n1\\nefsh_10k.htm\\nFORM 10-K\\nefsh_10k.h...   \n",
       "2  4M Carbon Fiber Corp.  \\n10-K\\n1\\nf10-k4mcarbonfiber.12.31.18.htm\\n4M...   \n",
       "3           8X8 INC _DE_  \\n10-K\\n1\\na10-kdocument.htm\\n10-K\\nDocument\\n...   \n",
       "4     AAC Holdings, Inc.  \\n10-K\\n1\\naac-10k_20181231.htm\\n10-K PROJECT ...   \n",
       "\n",
       "                                                 pnl  train  \\\n",
       "0  3\\n12\\nRETECH CORPORATION\\nConsolidated\\nState...   True   \n",
       "1  3\\nTable of Contents\\n1847 HOLDINGS LLC\\nCONSO...  False   \n",
       "2  2\\nSee accompanying notes to the consolidated ...   True   \n",
       "3  50\\nTable of Contents\\n8X8, INC.\\nCONSOLIDATED...   True   \n",
       "4  2\\nAAC HOLDINGS, Inc. \\nCONSOLIDATED STATEMENT...   True   \n",
       "\n",
       "                                          report_lst  \\\n",
       "0  [10-K, 1, form10-k.htm, UNITED, STATES, SECURI...   \n",
       "1  [10-K, 1, efsh_10k.htm, FORM, 10-K, efsh_10k.h...   \n",
       "2  [10-K, 1, f10-k4mcarbonfiber.12.31.18.htm, 4M,...   \n",
       "3  [10-K, 1, a10-kdocument.htm, 10-K, Document, T...   \n",
       "4  [10-K, 1, aac-10k_20181231.htm, 10-K, PROJECT,...   \n",
       "\n",
       "                                         pre_pnl_lst  \\\n",
       "0  [10-K, 1, form10-k.htm, UNITED, STATES, SECURI...   \n",
       "1  [10-K, 1, efsh_10k.htm, FORM, 10-K, efsh_10k.h...   \n",
       "2  [10-K, 1, f10-k4mcarbonfiber.12.31.18.htm, 4M,...   \n",
       "3  [10-K, 1, a10-kdocument.htm, 10-K, Document, T...   \n",
       "4  [10-K, 1, aac-10k_20181231.htm, 10-K, PROJECT,...   \n",
       "\n",
       "                                             pnl_lst  \\\n",
       "0  [3, 12, RETECH, CORPORATION, Consolidated, Sta...   \n",
       "1  [F-3, Table, of, Contents, 1847, HOLDINGS, LLC...   \n",
       "2  [F-2, See, accompanying, notes, to, the, conso...   \n",
       "3  [50, Table, of, Contents, 8X8,, INC., CONSOLID...   \n",
       "4  [F-2, AAC, HOLDINGS,, Inc., CONSOLIDATED, STAT...   \n",
       "\n",
       "                                        post_pnl_lst  \n",
       "0  [12, RETECH, CORPORATION, Consolidated, Statem...  \n",
       "1  [Table, of, Contents, 1847, HOLDINGS, LLC, CON...  \n",
       "2  [See, accompanying, notes, to, the, consolidat...  \n",
       "3  [Table, of, Contents, 8X8,, INC., CONSOLIDATED...  \n",
       "4  [AAC, HOLDINGS,, INC., CONSOLIDATED, BALANCE, ...  "
      ]
     },
     "execution_count": 9,
     "metadata": {},
     "output_type": "execute_result"
    }
   ],
   "source": [
    "df.head()"
   ]
  },
  {
   "cell_type": "markdown",
   "metadata": {},
   "source": [
    "To make sure the split was performed correctly, let's run a quick integrity check:"
   ]
  },
  {
   "cell_type": "code",
   "execution_count": 10,
   "metadata": {},
   "outputs": [
    {
     "data": {
      "text/plain": [
       "0"
      ]
     },
     "execution_count": 10,
     "metadata": {},
     "output_type": "execute_result"
    }
   ],
   "source": [
    "# verify that word counts align \n",
    "check_len = df.apply(lambda x: len(x.report_lst)-len(x.pnl_lst)-len(x.pre_pnl_lst)-len(x.post_pnl_lst), axis=1)\n",
    "len(df[check_len!=0])"
   ]
  },
  {
   "cell_type": "markdown",
   "metadata": {},
   "source": [
    "\n",
    "## Assign labels to each section"
   ]
  },
  {
   "cell_type": "markdown",
   "metadata": {},
   "source": [
    "Now that we have all three sections identified, we can assign labels to them. As we do it, we also need to convert the data from the wide format, where one row represents a single company, to a long format, where one row is more granular and represents a combination of a company and a section:"
   ]
  },
  {
   "cell_type": "code",
   "execution_count": 11,
   "metadata": {},
   "outputs": [],
   "source": [
    "def wide_to_long(df):\n",
    "    '''Takes the data in wide format, converts it into long format, and assigns labels to report sections.'''\n",
    "    \n",
    "    long = df[['dir', 'train', 'pre_pnl_lst', 'pnl_lst', 'post_pnl_lst']].copy()\n",
    "    long = pd.melt(long, id_vars=['dir', 'train'], value_vars=['pre_pnl_lst', 'pnl_lst', 'post_pnl_lst'], \n",
    "                  var_name='tag', value_name='words')\n",
    "    long['label'] = long.tag.apply(lambda x: ['pre_pnl_lst', 'pnl_lst', 'post_pnl_lst'].index(x)+1)\n",
    "    long.sort_values(by=['dir', 'label'], inplace=True)\n",
    "    long.reset_index(inplace=True)\n",
    "    long.drop(columns=['index', 'tag'], inplace=True)\n",
    "    \n",
    "    return long"
   ]
  },
  {
   "cell_type": "code",
   "execution_count": 12,
   "metadata": {},
   "outputs": [],
   "source": [
    "long = wide_to_long(df)"
   ]
  },
  {
   "cell_type": "code",
   "execution_count": 13,
   "metadata": {
    "scrolled": true
   },
   "outputs": [
    {
     "data": {
      "text/html": [
       "<div>\n",
       "<style scoped>\n",
       "    .dataframe tbody tr th:only-of-type {\n",
       "        vertical-align: middle;\n",
       "    }\n",
       "\n",
       "    .dataframe tbody tr th {\n",
       "        vertical-align: top;\n",
       "    }\n",
       "\n",
       "    .dataframe thead th {\n",
       "        text-align: right;\n",
       "    }\n",
       "</style>\n",
       "<table border=\"1\" class=\"dataframe\">\n",
       "  <thead>\n",
       "    <tr style=\"text-align: right;\">\n",
       "      <th></th>\n",
       "      <th>dir</th>\n",
       "      <th>train</th>\n",
       "      <th>words</th>\n",
       "      <th>label</th>\n",
       "    </tr>\n",
       "  </thead>\n",
       "  <tbody>\n",
       "    <tr>\n",
       "      <th>0</th>\n",
       "      <td>12 Retech Corp</td>\n",
       "      <td>True</td>\n",
       "      <td>[10-K, 1, form10-k.htm, UNITED, STATES, SECURI...</td>\n",
       "      <td>1</td>\n",
       "    </tr>\n",
       "    <tr>\n",
       "      <th>1</th>\n",
       "      <td>12 Retech Corp</td>\n",
       "      <td>True</td>\n",
       "      <td>[3, 12, RETECH, CORPORATION, Consolidated, Sta...</td>\n",
       "      <td>2</td>\n",
       "    </tr>\n",
       "    <tr>\n",
       "      <th>2</th>\n",
       "      <td>12 Retech Corp</td>\n",
       "      <td>True</td>\n",
       "      <td>[12, RETECH, CORPORATION, Consolidated, Statem...</td>\n",
       "      <td>3</td>\n",
       "    </tr>\n",
       "    <tr>\n",
       "      <th>3</th>\n",
       "      <td>1847 Holdings LLC</td>\n",
       "      <td>False</td>\n",
       "      <td>[10-K, 1, efsh_10k.htm, FORM, 10-K, efsh_10k.h...</td>\n",
       "      <td>1</td>\n",
       "    </tr>\n",
       "    <tr>\n",
       "      <th>4</th>\n",
       "      <td>1847 Holdings LLC</td>\n",
       "      <td>False</td>\n",
       "      <td>[F-3, Table, of, Contents, 1847, HOLDINGS, LLC...</td>\n",
       "      <td>2</td>\n",
       "    </tr>\n",
       "  </tbody>\n",
       "</table>\n",
       "</div>"
      ],
      "text/plain": [
       "                 dir  train  \\\n",
       "0     12 Retech Corp   True   \n",
       "1     12 Retech Corp   True   \n",
       "2     12 Retech Corp   True   \n",
       "3  1847 Holdings LLC  False   \n",
       "4  1847 Holdings LLC  False   \n",
       "\n",
       "                                               words  label  \n",
       "0  [10-K, 1, form10-k.htm, UNITED, STATES, SECURI...      1  \n",
       "1  [3, 12, RETECH, CORPORATION, Consolidated, Sta...      2  \n",
       "2  [12, RETECH, CORPORATION, Consolidated, Statem...      3  \n",
       "3  [10-K, 1, efsh_10k.htm, FORM, 10-K, efsh_10k.h...      1  \n",
       "4  [F-3, Table, of, Contents, 1847, HOLDINGS, LLC...      2  "
      ]
     },
     "execution_count": 13,
     "metadata": {},
     "output_type": "execute_result"
    }
   ],
   "source": [
    "long.head()"
   ]
  },
  {
   "cell_type": "markdown",
   "metadata": {},
   "source": [
    "To check that transformation went well, let's check the shape of the new data set to ensure that the new number of rows is exactly 596 companies x 3 sections = 1788:"
   ]
  },
  {
   "cell_type": "code",
   "execution_count": 14,
   "metadata": {},
   "outputs": [
    {
     "data": {
      "text/plain": [
       "(1788, 4)"
      ]
     },
     "execution_count": 14,
     "metadata": {},
     "output_type": "execute_result"
    }
   ],
   "source": [
    "long.shape"
   ]
  },
  {
   "cell_type": "markdown",
   "metadata": {},
   "source": [
    "## Clean up the data"
   ]
  },
  {
   "cell_type": "markdown",
   "metadata": {},
   "source": [
    "Now we have all word lists in one column, which makes it easier to clean them up. More specifically, I would want to drop all - now unnecessary - punctuation sings, as well as convert all numbers into a single token, `<number>`, (so that they can be treated as a single feature in modeling)."
   ]
  },
  {
   "cell_type": "code",
   "execution_count": 15,
   "metadata": {},
   "outputs": [],
   "source": [
    "def clean_up(lst):\n",
    "    '''Cleans up the data from punctuation signs, as well as substitutes all numbers with a single token.'''\n",
    "    \n",
    "    lst = [re.sub('[,\"\"“”]|\\W$', '', x.lower()) for x in lst]\n",
    "    lst = [re.sub(r'^[-$(]{,2}(?:\\d{1,3},?)+\\.?\\d*\\)?$', '<number>', x) for x in lst]\n",
    "    \n",
    "    return lst"
   ]
  },
  {
   "cell_type": "code",
   "execution_count": 16,
   "metadata": {},
   "outputs": [],
   "source": [
    "long.words = long.words.apply(clean_up)"
   ]
  },
  {
   "cell_type": "code",
   "execution_count": 17,
   "metadata": {
    "scrolled": true
   },
   "outputs": [
    {
     "data": {
      "text/html": [
       "<div>\n",
       "<style scoped>\n",
       "    .dataframe tbody tr th:only-of-type {\n",
       "        vertical-align: middle;\n",
       "    }\n",
       "\n",
       "    .dataframe tbody tr th {\n",
       "        vertical-align: top;\n",
       "    }\n",
       "\n",
       "    .dataframe thead th {\n",
       "        text-align: right;\n",
       "    }\n",
       "</style>\n",
       "<table border=\"1\" class=\"dataframe\">\n",
       "  <thead>\n",
       "    <tr style=\"text-align: right;\">\n",
       "      <th></th>\n",
       "      <th>dir</th>\n",
       "      <th>train</th>\n",
       "      <th>words</th>\n",
       "      <th>label</th>\n",
       "    </tr>\n",
       "  </thead>\n",
       "  <tbody>\n",
       "    <tr>\n",
       "      <th>0</th>\n",
       "      <td>12 Retech Corp</td>\n",
       "      <td>True</td>\n",
       "      <td>[10-k, &lt;number&gt;, form10-k.htm, united, states,...</td>\n",
       "      <td>1</td>\n",
       "    </tr>\n",
       "    <tr>\n",
       "      <th>1</th>\n",
       "      <td>12 Retech Corp</td>\n",
       "      <td>True</td>\n",
       "      <td>[&lt;number&gt;, &lt;number&gt;, retech, corporation, cons...</td>\n",
       "      <td>2</td>\n",
       "    </tr>\n",
       "    <tr>\n",
       "      <th>2</th>\n",
       "      <td>12 Retech Corp</td>\n",
       "      <td>True</td>\n",
       "      <td>[&lt;number&gt;, retech, corporation, consolidated, ...</td>\n",
       "      <td>3</td>\n",
       "    </tr>\n",
       "    <tr>\n",
       "      <th>3</th>\n",
       "      <td>1847 Holdings LLC</td>\n",
       "      <td>False</td>\n",
       "      <td>[10-k, &lt;number&gt;, efsh_10k.htm, form, 10-k, efs...</td>\n",
       "      <td>1</td>\n",
       "    </tr>\n",
       "    <tr>\n",
       "      <th>4</th>\n",
       "      <td>1847 Holdings LLC</td>\n",
       "      <td>False</td>\n",
       "      <td>[f-3, table, of, contents, &lt;number&gt;, holdings,...</td>\n",
       "      <td>2</td>\n",
       "    </tr>\n",
       "  </tbody>\n",
       "</table>\n",
       "</div>"
      ],
      "text/plain": [
       "                 dir  train  \\\n",
       "0     12 Retech Corp   True   \n",
       "1     12 Retech Corp   True   \n",
       "2     12 Retech Corp   True   \n",
       "3  1847 Holdings LLC  False   \n",
       "4  1847 Holdings LLC  False   \n",
       "\n",
       "                                               words  label  \n",
       "0  [10-k, <number>, form10-k.htm, united, states,...      1  \n",
       "1  [<number>, <number>, retech, corporation, cons...      2  \n",
       "2  [<number>, retech, corporation, consolidated, ...      3  \n",
       "3  [10-k, <number>, efsh_10k.htm, form, 10-k, efs...      1  \n",
       "4  [f-3, table, of, contents, <number>, holdings,...      2  "
      ]
     },
     "execution_count": 17,
     "metadata": {},
     "output_type": "execute_result"
    }
   ],
   "source": [
    "long.head()"
   ]
  },
  {
   "cell_type": "markdown",
   "metadata": {},
   "source": [
    "## Analyze the data"
   ]
  },
  {
   "cell_type": "markdown",
   "metadata": {},
   "source": [
    "Before I proceed with splitting `words` column into individual words, I would like to take a moment to run some basic section-level analytics on it. The reason is that this existing format is much more flexible for some quick analytics like section lenght analysis, etc. Once we convert it into an even longer format, where each word becomes a separate row, similar operations would require filtering / slicing of a large data set and would require much more time to run."
   ]
  },
  {
   "cell_type": "markdown",
   "metadata": {},
   "source": [
    "First let's make sure that there are no null values in the data set:"
   ]
  },
  {
   "cell_type": "code",
   "execution_count": 18,
   "metadata": {},
   "outputs": [
    {
     "name": "stdout",
     "output_type": "stream",
     "text": [
      "<class 'pandas.core.frame.DataFrame'>\n",
      "RangeIndex: 1788 entries, 0 to 1787\n",
      "Data columns (total 4 columns):\n",
      "dir      1788 non-null object\n",
      "train    1788 non-null bool\n",
      "words    1788 non-null object\n",
      "label    1788 non-null int64\n",
      "dtypes: bool(1), int64(1), object(2)\n",
      "memory usage: 43.7+ KB\n"
     ]
    }
   ],
   "source": [
    "# check for Null values\n",
    "long.info()"
   ]
  },
  {
   "cell_type": "markdown",
   "metadata": {},
   "source": [
    "Now, let's calculate and plot the average length of each section:"
   ]
  },
  {
   "cell_type": "code",
   "execution_count": 19,
   "metadata": {},
   "outputs": [
    {
     "data": {
      "text/html": [
       "<div>\n",
       "<style scoped>\n",
       "    .dataframe tbody tr th:only-of-type {\n",
       "        vertical-align: middle;\n",
       "    }\n",
       "\n",
       "    .dataframe tbody tr th {\n",
       "        vertical-align: top;\n",
       "    }\n",
       "\n",
       "    .dataframe thead th {\n",
       "        text-align: right;\n",
       "    }\n",
       "</style>\n",
       "<table border=\"1\" class=\"dataframe\">\n",
       "  <thead>\n",
       "    <tr style=\"text-align: right;\">\n",
       "      <th></th>\n",
       "      <th>label</th>\n",
       "      <th>count</th>\n",
       "    </tr>\n",
       "  </thead>\n",
       "  <tbody>\n",
       "    <tr>\n",
       "      <th>0</th>\n",
       "      <td>1</td>\n",
       "      <td>17670</td>\n",
       "    </tr>\n",
       "    <tr>\n",
       "      <th>1</th>\n",
       "      <td>2</td>\n",
       "      <td>175</td>\n",
       "    </tr>\n",
       "    <tr>\n",
       "      <th>2</th>\n",
       "      <td>3</td>\n",
       "      <td>35764</td>\n",
       "    </tr>\n",
       "    <tr>\n",
       "      <th>3</th>\n",
       "      <td>1</td>\n",
       "      <td>61066</td>\n",
       "    </tr>\n",
       "    <tr>\n",
       "      <th>4</th>\n",
       "      <td>2</td>\n",
       "      <td>208</td>\n",
       "    </tr>\n",
       "  </tbody>\n",
       "</table>\n",
       "</div>"
      ],
      "text/plain": [
       "   label  count\n",
       "0      1  17670\n",
       "1      2    175\n",
       "2      3  35764\n",
       "3      1  61066\n",
       "4      2    208"
      ]
     },
     "execution_count": 19,
     "metadata": {},
     "output_type": "execute_result"
    }
   ],
   "source": [
    "# calculate section length for each report\n",
    "counts = long.words.apply(len)\n",
    "df_counts = pd.DataFrame({'label': long.label, 'count': counts})\n",
    "df_counts.head()"
   ]
  },
  {
   "cell_type": "code",
   "execution_count": 20,
   "metadata": {},
   "outputs": [],
   "source": [
    "# calculate mean and standard deviation for section length\n",
    "stats = df_counts.groupby('label').agg(['mean', 'std']).values.T.astype(int)"
   ]
  },
  {
   "cell_type": "code",
   "execution_count": 21,
   "metadata": {},
   "outputs": [
    {
     "data": {
      "image/png": "[encoded data removed]",
      "text/plain": [
       "<Figure size 576x288 with 1 Axes>"
      ]
     },
     "metadata": {
      "needs_background": "light"
     },
     "output_type": "display_data"
    }
   ],
   "source": [
    "# plot the results\n",
    "fig, ax = plt.subplots(figsize=(8, 4))\n",
    "plt.subplots_adjust(bottom=0.4)\n",
    "sns.barplot(x='label', y='count', data=df_counts, ax=ax)\n",
    "ax.set_title('Average section length, words', fontsize=15, fontweight='bold', y=1.01)\n",
    "ax.set_ylabel('Average word count', fontsize=12)\n",
    "ax.tick_params(labelsize=11)\n",
    "ax.get_xaxis().set_visible(False)\n",
    "table = ax.table(cellText=stats, rowLabels=['Mean', 'St.deviation'], colLabels=['Pre-P&L', 'P&L', 'Post-P&L'], \n",
    "         cellLoc='center')\n",
    "table.set(fontsize=12)\n",
    "plt.tight_layout();"
   ]
  },
  {
   "cell_type": "markdown",
   "metadata": {},
   "source": [
    "As we can see, P&L section (label=2) is by far the smallest section, with average length of ~190 words (standard deviation ~70)."
   ]
  },
  {
   "cell_type": "markdown",
   "metadata": {},
   "source": [
    "## Split word lists into individual words"
   ]
  },
  {
   "cell_type": "markdown",
   "metadata": {},
   "source": [
    "With word lists cleaned up, we're finally ready to reformat the data into a more granular, word-level view that we'll be using for training. To do that, I will define a method that takes a Pandas DataFrame and \"stretches\" a given column by converting lists of values into individual values as separate rows:"
   ]
  },
  {
   "cell_type": "code",
   "execution_count": 22,
   "metadata": {},
   "outputs": [],
   "source": [
    "def flatten_data(data):\n",
    "    return pd.Series([item for sublist in data for item in sublist])"
   ]
  },
  {
   "cell_type": "code",
   "execution_count": 23,
   "metadata": {},
   "outputs": [],
   "source": [
    "def stretch_df_by_column(df, column):\n",
    "    '''Converts lists contained in a given DataFrame column into separate rows.'''\n",
    "    \n",
    "    # identify columns that have to be replicated when a given column is \"stretched\"\n",
    "    data = df.copy()\n",
    "    cols_to_stretch = set(data.columns) - {column}\n",
    "    data['len'] = data[column].apply(len)\n",
    "    \n",
    "    # convert values in those columns into lists\n",
    "    for col in cols_to_stretch:\n",
    "        data[col] = data.apply(lambda x: [x[col]] * x.len, axis=1)\n",
    "    data.drop(columns=['len'], inplace=True)\n",
    "    \n",
    "    # create a new, \"stretched\" DataFrame\n",
    "    df_new = pd.DataFrame()\n",
    "    for col in df.columns:\n",
    "        df_new[col] = flatten_data(data[col])\n",
    "        \n",
    "    return df_new"
   ]
  },
  {
   "cell_type": "code",
   "execution_count": 24,
   "metadata": {},
   "outputs": [
    {
     "data": {
      "text/html": [
       "<div>\n",
       "<style scoped>\n",
       "    .dataframe tbody tr th:only-of-type {\n",
       "        vertical-align: middle;\n",
       "    }\n",
       "\n",
       "    .dataframe tbody tr th {\n",
       "        vertical-align: top;\n",
       "    }\n",
       "\n",
       "    .dataframe thead th {\n",
       "        text-align: right;\n",
       "    }\n",
       "</style>\n",
       "<table border=\"1\" class=\"dataframe\">\n",
       "  <thead>\n",
       "    <tr style=\"text-align: right;\">\n",
       "      <th></th>\n",
       "      <th>dir</th>\n",
       "      <th>train</th>\n",
       "      <th>words</th>\n",
       "      <th>label</th>\n",
       "    </tr>\n",
       "  </thead>\n",
       "  <tbody>\n",
       "    <tr>\n",
       "      <th>0</th>\n",
       "      <td>12 Retech Corp</td>\n",
       "      <td>True</td>\n",
       "      <td>10-k</td>\n",
       "      <td>1</td>\n",
       "    </tr>\n",
       "    <tr>\n",
       "      <th>1</th>\n",
       "      <td>12 Retech Corp</td>\n",
       "      <td>True</td>\n",
       "      <td>&lt;number&gt;</td>\n",
       "      <td>1</td>\n",
       "    </tr>\n",
       "    <tr>\n",
       "      <th>2</th>\n",
       "      <td>12 Retech Corp</td>\n",
       "      <td>True</td>\n",
       "      <td>form10-k.htm</td>\n",
       "      <td>1</td>\n",
       "    </tr>\n",
       "    <tr>\n",
       "      <th>3</th>\n",
       "      <td>12 Retech Corp</td>\n",
       "      <td>True</td>\n",
       "      <td>united</td>\n",
       "      <td>1</td>\n",
       "    </tr>\n",
       "    <tr>\n",
       "      <th>4</th>\n",
       "      <td>12 Retech Corp</td>\n",
       "      <td>True</td>\n",
       "      <td>states</td>\n",
       "      <td>1</td>\n",
       "    </tr>\n",
       "  </tbody>\n",
       "</table>\n",
       "</div>"
      ],
      "text/plain": [
       "              dir  train         words  label\n",
       "0  12 Retech Corp   True          10-k      1\n",
       "1  12 Retech Corp   True      <number>      1\n",
       "2  12 Retech Corp   True  form10-k.htm      1\n",
       "3  12 Retech Corp   True        united      1\n",
       "4  12 Retech Corp   True        states      1"
      ]
     },
     "execution_count": 24,
     "metadata": {},
     "output_type": "execute_result"
    }
   ],
   "source": [
    "# \"Stretch\" the dataframe\n",
    "ds = stretch_df_by_column(long, 'words')\n",
    "ds.head()"
   ]
  },
  {
   "cell_type": "markdown",
   "metadata": {},
   "source": [
    "## Save pre-processed data"
   ]
  },
  {
   "cell_type": "markdown",
   "metadata": {},
   "source": [
    "Finally, I'll save the resulting dataset in a file to be picked up in later phases of this project:"
   ]
  },
  {
   "cell_type": "code",
   "execution_count": 25,
   "metadata": {},
   "outputs": [],
   "source": [
    "# Save resulting data into a file for future re-use\n",
    "np.savez('files/data.npz', company=ds.dir.values, train=ds.train.values, labels=ds.label.values, words=ds.words.values)"
   ]
  }
 ],
 "metadata": {
  "kernelspec": {
   "display_name": "Python 3",
   "language": "python",
   "name": "python3"
  },
  "language_info": {
   "codemirror_mode": {
    "name": "ipython",
    "version": 3
   },
   "file_extension": ".py",
   "mimetype": "text/x-python",
   "name": "python",
   "nbconvert_exporter": "python",
   "pygments_lexer": "ipython3",
   "version": "3.7.1"
  }
 },
 "nbformat": 4,
 "nbformat_minor": 2
}
