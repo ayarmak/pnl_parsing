{
 "cells": [
  {
   "cell_type": "markdown",
   "metadata": {},
   "source": [
    "# 6. Model training"
   ]
  },
  {
   "cell_type": "markdown",
   "metadata": {},
   "source": [
    "With all features successfully extracted, the final step is to pick and train the machine learning model that would classify each word in a report as being a part of P&L statement, located above or below it. "
   ]
  },
  {
   "cell_type": "markdown",
   "metadata": {},
   "source": [
    "# Table of Contents"
   ]
  },
  {
   "cell_type": "markdown",
   "metadata": {},
   "source": [
    "1. [Final-pre-processing](#Final-pre-processing)\n",
    "    1. [Load data](#Load-data)\n",
    "    1. [Split into training and testing sets](#Split-into-training-and-testing-sets)\n",
    "    1. [Build downsized testing sets](#Build-downsized-testing-sets)\n",
    "    1. [Merge labels](#Merge-labels)\n",
    "    1. [Normalize inputs](#Normalize-inputs)\n",
    "1. [Pick the model](#Pick-the-model)\n",
    "    1. [Multinomial Naive Bayes](#Multinomial-Naive-Bayes)\n",
    "    1. [Support Vector Machines (SVM)](#Support-Vector-Machines-(SVM))  \n",
    "    1. [Stochastic Gradient Descent (SGD)](#Stochastic-Gradient-Descent-(SGD))\n",
    "1. [Pick merged vs. unmerged labels](#Pick-merged-vs.-unmerged-labels)\n",
    "1. [Pick the training set size](#Pick-the-training-set-size)\n",
    "    1. [Full size](#Full-size)\n",
    "    1. [0.1% sample](#0.1%-sample)\n",
    "1. [Save the winning model](#Save-the-winning-model)"
   ]
  },
  {
   "cell_type": "code",
   "execution_count": 1,
   "metadata": {},
   "outputs": [],
   "source": [
    "import numpy as np\n",
    "import pandas as pd\n",
    "import sys\n",
    "from IPython.display import display\n",
    "from scipy.sparse import csr_matrix, csc_matrix, save_npz, load_npz, hstack\n",
    "import matplotlib.pyplot as plt\n",
    "from sklearn.preprocessing import StandardScaler, MinMaxScaler, MaxAbsScaler\n",
    "from sklearn.naive_bayes import MultinomialNB\n",
    "from sklearn.svm import SVC, LinearSVC\n",
    "from sklearn.kernel_approximation import Nystroem\n",
    "from sklearn.linear_model import SGDClassifier\n",
    "from sklearn.metrics import accuracy_score, f1_score, fbeta_score, precision_score, recall_score, make_scorer\n",
    "from sklearn.ensemble import RandomForestClassifier\n",
    "from sklearn.model_selection import GridSearchCV\n",
    "%matplotlib inline"
   ]
  },
  {
   "cell_type": "markdown",
   "metadata": {},
   "source": [
    "## Final pre-processing"
   ]
  },
  {
   "cell_type": "markdown",
   "metadata": {},
   "source": [
    "There are just a couple final pre-processing steps that are reqiured to streamline the model training."
   ]
  },
  {
   "cell_type": "markdown",
   "metadata": {},
   "source": [
    "### Load data"
   ]
  },
  {
   "cell_type": "code",
   "execution_count": 2,
   "metadata": {},
   "outputs": [],
   "source": [
    "data = np.load('files/data.npz', allow_pickle=True)"
   ]
  },
  {
   "cell_type": "code",
   "execution_count": 3,
   "metadata": {},
   "outputs": [
    {
     "data": {
      "text/plain": [
       "['company', 'train', 'labels', 'words']"
      ]
     },
     "execution_count": 3,
     "metadata": {},
     "output_type": "execute_result"
    }
   ],
   "source": [
    "data.files"
   ]
  },
  {
   "cell_type": "code",
   "execution_count": 4,
   "metadata": {},
   "outputs": [],
   "source": [
    "X = load_npz('files/X.npz')"
   ]
  },
  {
   "cell_type": "markdown",
   "metadata": {},
   "source": [
    "### Split into training and testing sets"
   ]
  },
  {
   "cell_type": "code",
   "execution_count": 5,
   "metadata": {},
   "outputs": [],
   "source": [
    "def split_on_bool(array, criteria):\n",
    "    return array[criteria].copy(), array[~criteria].copy()"
   ]
  },
  {
   "cell_type": "code",
   "execution_count": 6,
   "metadata": {},
   "outputs": [],
   "source": [
    "# split the labels into training and testing sets\n",
    "y_train, y_test = split_on_bool(data['labels'], data['train'])"
   ]
  },
  {
   "cell_type": "code",
   "execution_count": 7,
   "metadata": {},
   "outputs": [],
   "source": [
    "# split the inputs into training and testing sets\n",
    "X_train, X_test = split_on_bool(X, data['train'])"
   ]
  },
  {
   "cell_type": "markdown",
   "metadata": {},
   "source": [
    "### Build downsized testing sets"
   ]
  },
  {
   "cell_type": "markdown",
   "metadata": {},
   "source": [
    "With our data set consisting of almost 24 million entries, training some of the models might be quite challenging. Luckily, if we think about the kind of data that is encoded in our features, there is a lot of feature similarity across the co-located entries. More specifically, when it comes to any pair of two adjacent words, the maximum difference between their feature values might be at most a count of `1` for just one of the first 100 features (i.e. total counts for the 100-word window above the current word) and at most a `1` for one of the remaining 100 features (i.e. total counts for the 100-word window below the current word). So, theoretically, while training on all entries will drive additional precision, for the purposes of picking the right model we can first explore a down-sized version (e.g., a randomly pulled set of 1% of entries - or maybe even 0.1%). And then, when the right model choice is made, we can try and re-train it on the full data set."
   ]
  },
  {
   "cell_type": "code",
   "execution_count": 8,
   "metadata": {},
   "outputs": [],
   "source": [
    "def reduce_sample(X, y, percent):\n",
    "    '''Randomly pulls a predefined percent of entries from a given data set.'''\n",
    "    \n",
    "    filt = np.random.rand(X.shape[0]) < percent\n",
    "    return X[filt], y[filt]"
   ]
  },
  {
   "cell_type": "code",
   "execution_count": 9,
   "metadata": {},
   "outputs": [],
   "source": [
    "# generate a sample of 1%\n",
    "X_train_1_prc, y_train_1_prc = reduce_sample(X_train, y_train, 0.01)"
   ]
  },
  {
   "cell_type": "code",
   "execution_count": 10,
   "metadata": {
    "scrolled": true
   },
   "outputs": [
    {
     "data": {
      "text/plain": [
       "((186238, 200), (186238,))"
      ]
     },
     "execution_count": 10,
     "metadata": {},
     "output_type": "execute_result"
    }
   ],
   "source": [
    "# check the shapes\n",
    "X_train_1_prc.shape, y_train_1_prc.shape"
   ]
  },
  {
   "cell_type": "code",
   "execution_count": 11,
   "metadata": {},
   "outputs": [],
   "source": [
    "# generate a sample of 0.1%\n",
    "X_train_01_prc, y_train_01_prc = reduce_sample(X_train, y_train, 0.001)"
   ]
  },
  {
   "cell_type": "code",
   "execution_count": 12,
   "metadata": {},
   "outputs": [
    {
     "data": {
      "text/plain": [
       "((18631, 200), (18631,))"
      ]
     },
     "execution_count": 12,
     "metadata": {},
     "output_type": "execute_result"
    }
   ],
   "source": [
    "# check the shapes\n",
    "X_train_01_prc.shape, y_train_01_prc.shape"
   ]
  },
  {
   "cell_type": "markdown",
   "metadata": {},
   "source": [
    "### Merge labels"
   ]
  },
  {
   "cell_type": "markdown",
   "metadata": {},
   "source": [
    "While the original data includes 3 labels (1 = above P&L statement, 2 = within P&L statement, 3 = below P&L statement), we theoretically only need 2 (P&L vs. non-P&L). However, it is not a clear cut, because, if categories 1 and 3 are significanly different, merging the labels might create additional \"confusion\" for the model. To verify which option is better, I would need to have a version of the label set with categories 1 and 3 \"merged\" in one label."
   ]
  },
  {
   "cell_type": "code",
   "execution_count": 13,
   "metadata": {},
   "outputs": [],
   "source": [
    "def substitute_label(y, old_label, new_label):\n",
    "    '''Substitutes an existing label with a different one.'''\n",
    "    \n",
    "    new_y = y.copy()\n",
    "    new_y[new_y==old_label] = new_label\n",
    "    \n",
    "    return new_y"
   ]
  },
  {
   "cell_type": "code",
   "execution_count": 14,
   "metadata": {},
   "outputs": [
    {
     "data": {
      "text/plain": [
       "(array([1, 2, 3]), array([113735,    877,  71626]))"
      ]
     },
     "execution_count": 14,
     "metadata": {},
     "output_type": "execute_result"
    }
   ],
   "source": [
    "# verify the unique labels\n",
    "np.unique(y_train_1_prc, return_counts=True)"
   ]
  },
  {
   "cell_type": "code",
   "execution_count": 15,
   "metadata": {},
   "outputs": [],
   "source": [
    "# merge the labels\n",
    "y_train_1_prc_merged = substitute_label(y_train_1_prc, 3, 1)\n",
    "y_test_merged = substitute_label(y_test, 3, 1)"
   ]
  },
  {
   "cell_type": "code",
   "execution_count": 16,
   "metadata": {
    "scrolled": true
   },
   "outputs": [
    {
     "data": {
      "text/plain": [
       "(array([1, 2]), array([185361,    877]))"
      ]
     },
     "execution_count": 16,
     "metadata": {},
     "output_type": "execute_result"
    }
   ],
   "source": [
    "# verify the unique labels after merging\n",
    "np.unique(y_train_1_prc_merged, return_counts=True)"
   ]
  },
  {
   "cell_type": "markdown",
   "metadata": {},
   "source": [
    "### Normalize inputs<a id='norm'></a>"
   ]
  },
  {
   "cell_type": "markdown",
   "metadata": {},
   "source": [
    "Some machine learning models (e.g. SVM) would require scaling of the data. For these purposes, I would use `sklearn`'s `MaxAbsScaler`. The reason for this choice is that some of the more widely used scalers (e.g. `StandardScaler` or `MinMaxScaler`) don't work as well with sparse data:"
   ]
  },
  {
   "cell_type": "markdown",
   "metadata": {},
   "source": [
    "Here are some details from [sklearn documentation](#https://scikit-learn.org/stable/modules/preprocessing.html#scaling-sparse-data):\n",
    "> Centering sparse data would destroy the sparseness structure in the data, and thus rarely is a sensible thing to do. However, it can make sense to scale sparse inputs, especially if features are on different scales.\n",
    "> `MaxAbsScaler` and `maxabs_scale` were specifically designed for scaling sparse data, and are the recommended way to go about this."
   ]
  },
  {
   "cell_type": "code",
   "execution_count": 17,
   "metadata": {},
   "outputs": [],
   "source": [
    "maxabs = MaxAbsScaler()"
   ]
  },
  {
   "cell_type": "code",
   "execution_count": 18,
   "metadata": {},
   "outputs": [],
   "source": [
    "# scale the training set\n",
    "X_train_1_prc_scaled = maxabs.fit_transform(X_train_1_prc)"
   ]
  },
  {
   "cell_type": "code",
   "execution_count": 19,
   "metadata": {},
   "outputs": [],
   "source": [
    "# scale the testing set\n",
    "X_test_scaled = maxabs.transform(X_test)"
   ]
  },
  {
   "cell_type": "markdown",
   "metadata": {},
   "source": [
    "## Pick the model"
   ]
  },
  {
   "cell_type": "markdown",
   "metadata": {},
   "source": [
    "Now we're ready to pick the right model. Given the task at hand, I would like to explore three potential options:\n",
    "1. *Naive Bayes* - usually scales very well and often performs well in practice\n",
    "2. *Support Vector Machine* - can pick up on more complex relationships, but is notoriously hard to scale \n",
    "3. *Stochastic Gradient Descent* - linear models are sometimes very performant, while also easier to understand"
   ]
  },
  {
   "cell_type": "markdown",
   "metadata": {},
   "source": [
    "To make sure that all 3 models can be trained in reasonable amount of time, temporarily reducing the data set to at least 1% of the orinal size for this step would be really helpful. As discussed before, given the structure of the data this should still be a relatively representative sample of the underlying data."
   ]
  },
  {
   "cell_type": "markdown",
   "metadata": {},
   "source": [
    "Our key KPI for picking the best model would be an **F-beta score of label 2** with beta value higher than 1 (e.g., 5). The reasons for this choice are three-fold:\n",
    "1. One of the categories (more specifically, our target one - label 2) is dramatically smaller in size than the other two. Because of that, accuracy won't be a good measure, as even getting all label 2 predictions wrong can still coincide with high accuracy on the overall data set\n",
    "1. We care much more about recall in this case than precision. In other words, while having too many false positives is somewhat of a problem, it can be still dealt with to some extent later through additional data processing (e.g, by only picking the predicting label 2s that are adjacent to each other and collectively have the highest probability scores). False negatives are a much larger problem though, as they essentially mean some of the P&L data will be lost for further analysis. Therefore, a simple F1 score is not gonna be enough, as it assumes equal importance of precision and recall\n",
    "1. We don't really care about precision and recall between categories 1 and 3, so if some 1s are classified as 3s or vice versa, this should not be a problem. Therefore, we really need to look at the score of our most important label only (label 2). Later in this notebook, we will explore whether we can even merge labels 1 and 3 (in which case we would have a binary label, and the overall F-beta would work as well)."
   ]
  },
  {
   "cell_type": "markdown",
   "metadata": {},
   "source": [
    "For the purposes of this project, I'll target a minimum F-beta value of 70% as my model acceptance criteria."
   ]
  },
  {
   "cell_type": "markdown",
   "metadata": {},
   "source": [
    "### Multinomial Naive Bayes"
   ]
  },
  {
   "cell_type": "code",
   "execution_count": 20,
   "metadata": {
    "scrolled": false
   },
   "outputs": [],
   "source": [
    "def plot_predictions_for_label_value(predictions, labels, label, ax=None):\n",
    "    \n",
    "    if not ax:\n",
    "        ax = plt.gca()\n",
    "        \n",
    "    values, counts = np.unique(predictions[labels==label], return_counts=True)\n",
    "    percents = counts / counts.sum()\n",
    "    \n",
    "    ax.bar(x=values, height=percents)\n",
    "    ax.set_title('True label: {}'.format(label), fontsize=12, fontweight='bold')\n",
    "    ax.set_xlabel('Predicted label', fontsize=12)\n",
    "    ax.set_ylim(0, 1)\n",
    "    ax.set_xticks(values);"
   ]
  },
  {
   "cell_type": "code",
   "execution_count": 21,
   "metadata": {},
   "outputs": [],
   "source": [
    "def get_scores(y_test, y_pred):\n",
    "    \n",
    "    print('Accuracy score: {}'.format(accuracy_score(y_test, y_pred)))\n",
    "    display(pd.DataFrame({'Label': np.unique(y_test),\n",
    "                          'F1': f1_score(y_test, y_pred, average=None),\n",
    "                          'F_beta_5': fbeta_score(y_test, y_pred, beta=5, average=None),\n",
    "                          'F_beta_05': fbeta_score(y_test, y_pred, beta=0.5, average=None),\n",
    "                          'Recall': recall_score(y_test, y_pred, average=None),\n",
    "                          'Precision': precision_score(y_test, y_pred, average=None)}))\n",
    "    \n",
    "    labels = np.unique(y_test)\n",
    "    fig, ax = plt.subplots(1, len(labels), figsize=(12, 4))\n",
    "    fig.suptitle('Share of predicted values by true label', fontsize=14, fontweight='bold', y=1.01)\n",
    "    for i, label in enumerate(labels):\n",
    "        plot_predictions_for_label_value(y_pred, y_test, label, ax[i])"
   ]
  },
  {
   "cell_type": "code",
   "execution_count": 22,
   "metadata": {},
   "outputs": [],
   "source": [
    "def clf_fit_predict(model, X_train, y_train, X_test, y_test):\n",
    "    '''Fits the model to the training set, and estimates performance on the testing set.'''\n",
    "    \n",
    "    clf = model()\n",
    "    clf.fit(X_train, y_train)\n",
    "    y_pred = clf.predict(X_test)\n",
    "    get_scores(y_test, y_pred)\n",
    "    \n",
    "    return model"
   ]
  },
  {
   "cell_type": "code",
   "execution_count": 23,
   "metadata": {},
   "outputs": [
    {
     "name": "stdout",
     "output_type": "stream",
     "text": [
      "Accuracy score: 0.7199644326767207\n"
     ]
    },
    {
     "data": {
      "text/html": [
       "<div>\n",
       "<style scoped>\n",
       "    .dataframe tbody tr th:only-of-type {\n",
       "        vertical-align: middle;\n",
       "    }\n",
       "\n",
       "    .dataframe tbody tr th {\n",
       "        vertical-align: top;\n",
       "    }\n",
       "\n",
       "    .dataframe thead th {\n",
       "        text-align: right;\n",
       "    }\n",
       "</style>\n",
       "<table border=\"1\" class=\"dataframe\">\n",
       "  <thead>\n",
       "    <tr style=\"text-align: right;\">\n",
       "      <th></th>\n",
       "      <th>Label</th>\n",
       "      <th>F1</th>\n",
       "      <th>F_beta_5</th>\n",
       "      <th>F_beta_05</th>\n",
       "      <th>Recall</th>\n",
       "      <th>Precision</th>\n",
       "    </tr>\n",
       "  </thead>\n",
       "  <tbody>\n",
       "    <tr>\n",
       "      <th>0</th>\n",
       "      <td>1</td>\n",
       "      <td>0.785355</td>\n",
       "      <td>0.754891</td>\n",
       "      <td>0.806511</td>\n",
       "      <td>0.752458</td>\n",
       "      <td>0.821259</td>\n",
       "    </tr>\n",
       "    <tr>\n",
       "      <th>1</th>\n",
       "      <td>2</td>\n",
       "      <td>0.159241</td>\n",
       "      <td>0.703979</td>\n",
       "      <td>0.105951</td>\n",
       "      <td>0.984685</td>\n",
       "      <td>0.086625</td>\n",
       "    </tr>\n",
       "    <tr>\n",
       "      <th>2</th>\n",
       "      <td>3</td>\n",
       "      <td>0.669264</td>\n",
       "      <td>0.668384</td>\n",
       "      <td>0.669837</td>\n",
       "      <td>0.668311</td>\n",
       "      <td>0.670220</td>\n",
       "    </tr>\n",
       "  </tbody>\n",
       "</table>\n",
       "</div>"
      ],
      "text/plain": [
       "   Label        F1  F_beta_5  F_beta_05    Recall  Precision\n",
       "0      1  0.785355  0.754891   0.806511  0.752458   0.821259\n",
       "1      2  0.159241  0.703979   0.105951  0.984685   0.086625\n",
       "2      3  0.669264  0.668384   0.669837  0.668311   0.670220"
      ]
     },
     "metadata": {},
     "output_type": "display_data"
    },
    {
     "data": {
      "image/png": "[encoded data removed]",
      "text/plain": [
       "<Figure size 864x288 with 3 Axes>"
      ]
     },
     "metadata": {
      "needs_background": "light"
     },
     "output_type": "display_data"
    }
   ],
   "source": [
    "# fit the model and print the metrics\n",
    "bayes_1_perc = clf_fit_predict(MultinomialNB, X_train_1_prc, y_train_1_prc, X_test, y_test)"
   ]
  },
  {
   "cell_type": "markdown",
   "metadata": {},
   "source": [
    "### Support Vector Machines (SVM)"
   ]
  },
  {
   "cell_type": "markdown",
   "metadata": {},
   "source": [
    "Regular SVM implementation turned out to not scale at all (even if left running for hours) with this dataset (even the 1% down-sampled version), which is explained well in [sklearn.svm.SVC documentation](https://scikit-learn.org/stable/modules/generated/sklearn.svm.SVC.html): \n",
    "> The implementation is based on libsvm. The fit time scales at least quadratically with the number of samples and may be impractical beyond tens of thousands of samples."
   ]
  },
  {
   "cell_type": "markdown",
   "metadata": {},
   "source": [
    "Instead, as suggested by the same documentation, I will use a `LinearSVC` model that scales better with the data."
   ]
  },
  {
   "cell_type": "markdown",
   "metadata": {},
   "source": [
    "Also, it is crucial to tune SVM's hyperparameters, so I will be using Grid Search with it right away."
   ]
  },
  {
   "cell_type": "code",
   "execution_count": 24,
   "metadata": {},
   "outputs": [],
   "source": [
    "def grid_search_fit_predict(model, param_grid, scorer, X_train, y_train, X_test, y_test):\n",
    "    '''Runs the grid search on the training set, and estimates performance on the testing set.'''\n",
    "    \n",
    "    clf = model()\n",
    "    grid_search = GridSearchCV(estimator=clf, param_grid=param_grid, scoring=scorer, cv=5)\n",
    "    grid_search.fit(X_train, y_train)\n",
    "    \n",
    "    print('Best model parameters: {}'.format(grid_search.best_params_))\n",
    "    \n",
    "    best_model = grid_search.best_estimator_\n",
    "    y_pred = best_model.predict(X_test)\n",
    "    get_scores(y_test, y_pred)\n",
    "    \n",
    "    return best_model"
   ]
  },
  {
   "cell_type": "code",
   "execution_count": 25,
   "metadata": {},
   "outputs": [],
   "source": [
    "# define the scorer\n",
    "f5_scorer = make_scorer(fbeta_score, beta=5, average=None, labels=[2])"
   ]
  },
  {
   "cell_type": "code",
   "execution_count": 26,
   "metadata": {},
   "outputs": [],
   "source": [
    "# define the parameter grid for Grid Search\n",
    "param_grid = {\n",
    "    'tol': [1e-3, 1e-4, 1e-5],\n",
    "    'C': [0.1, 1.0, 10.0],\n",
    "    'dual': [True, False]\n",
    "}"
   ]
  },
  {
   "cell_type": "code",
   "execution_count": 27,
   "metadata": {},
   "outputs": [
    {
     "name": "stderr",
     "output_type": "stream",
     "text": [
      "/Users/ayarmak/anaconda3/envs/py3/lib/python3.7/site-packages/sklearn/svm/base.py:929: ConvergenceWarning: Liblinear failed to converge, increase the number of iterations.\n",
      "  \"the number of iterations.\", ConvergenceWarning)\n"
     ]
    },
    {
     "name": "stdout",
     "output_type": "stream",
     "text": [
      "Best model parameters: {'C': 10.0, 'dual': False, 'tol': 0.001}\n",
      "Accuracy score: 0.8030210859531992\n"
     ]
    },
    {
     "data": {
      "text/html": [
       "<div>\n",
       "<style scoped>\n",
       "    .dataframe tbody tr th:only-of-type {\n",
       "        vertical-align: middle;\n",
       "    }\n",
       "\n",
       "    .dataframe tbody tr th {\n",
       "        vertical-align: top;\n",
       "    }\n",
       "\n",
       "    .dataframe thead th {\n",
       "        text-align: right;\n",
       "    }\n",
       "</style>\n",
       "<table border=\"1\" class=\"dataframe\">\n",
       "  <thead>\n",
       "    <tr style=\"text-align: right;\">\n",
       "      <th></th>\n",
       "      <th>Label</th>\n",
       "      <th>F1</th>\n",
       "      <th>F_beta_5</th>\n",
       "      <th>F_beta_05</th>\n",
       "      <th>Recall</th>\n",
       "      <th>Precision</th>\n",
       "    </tr>\n",
       "  </thead>\n",
       "  <tbody>\n",
       "    <tr>\n",
       "      <th>0</th>\n",
       "      <td>1</td>\n",
       "      <td>0.833164</td>\n",
       "      <td>0.815959</td>\n",
       "      <td>0.844741</td>\n",
       "      <td>0.814557</td>\n",
       "      <td>0.852640</td>\n",
       "    </tr>\n",
       "    <tr>\n",
       "      <th>1</th>\n",
       "      <td>2</td>\n",
       "      <td>0.602144</td>\n",
       "      <td>0.481387</td>\n",
       "      <td>0.719453</td>\n",
       "      <td>0.473474</td>\n",
       "      <td>0.826842</td>\n",
       "    </tr>\n",
       "    <tr>\n",
       "      <th>2</th>\n",
       "      <td>3</td>\n",
       "      <td>0.762529</td>\n",
       "      <td>0.787722</td>\n",
       "      <td>0.747000</td>\n",
       "      <td>0.789897</td>\n",
       "      <td>0.736994</td>\n",
       "    </tr>\n",
       "  </tbody>\n",
       "</table>\n",
       "</div>"
      ],
      "text/plain": [
       "   Label        F1  F_beta_5  F_beta_05    Recall  Precision\n",
       "0      1  0.833164  0.815959   0.844741  0.814557   0.852640\n",
       "1      2  0.602144  0.481387   0.719453  0.473474   0.826842\n",
       "2      3  0.762529  0.787722   0.747000  0.789897   0.736994"
      ]
     },
     "metadata": {},
     "output_type": "display_data"
    },
    {
     "data": {
      "image/png": "[encoded data removed]",
      "text/plain": [
       "<Figure size 864x288 with 3 Axes>"
      ]
     },
     "metadata": {
      "needs_background": "light"
     },
     "output_type": "display_data"
    }
   ],
   "source": [
    "# fit the model and print the metrics\n",
    "svm = grid_search_fit_predict(LinearSVC, param_grid, f5_scorer, \n",
    "                              X_train_1_prc_scaled, y_train_1_prc, X_test_scaled, y_test)"
   ]
  },
  {
   "cell_type": "markdown",
   "metadata": {},
   "source": [
    "### Stochastic Gradient Descent (SGD)"
   ]
  },
  {
   "cell_type": "markdown",
   "metadata": {},
   "source": [
    "Given the number of potential parameter options for SGD, I will be using Grid Search for it as well."
   ]
  },
  {
   "cell_type": "code",
   "execution_count": 28,
   "metadata": {},
   "outputs": [],
   "source": [
    "# define the parameter grid for Grid Search\n",
    "param_grid = {\n",
    "    'alpha': [1e-4, 1e-3, 1e-2, 1e-1, 1e0, 1e1, 1e2, 1e3], # learning rate\n",
    "    'loss': ['log', 'modified_huber', 'perceptron'], \n",
    "    'penalty': ['l1', 'l2']\n",
    "}"
   ]
  },
  {
   "cell_type": "code",
   "execution_count": 29,
   "metadata": {},
   "outputs": [
    {
     "name": "stderr",
     "output_type": "stream",
     "text": [
      "/Users/ayarmak/anaconda3/envs/py3/lib/python3.7/site-packages/sklearn/metrics/classification.py:1437: UndefinedMetricWarning: F-score is ill-defined and being set to 0.0 due to no predicted samples.\n",
      "  'precision', 'predicted', average, warn_for)\n"
     ]
    },
    {
     "name": "stdout",
     "output_type": "stream",
     "text": [
      "Best model parameters: {'alpha': 0.0001, 'loss': 'perceptron', 'penalty': 'l2'}\n",
      "Accuracy score: 0.7722351125929534\n"
     ]
    },
    {
     "data": {
      "text/html": [
       "<div>\n",
       "<style scoped>\n",
       "    .dataframe tbody tr th:only-of-type {\n",
       "        vertical-align: middle;\n",
       "    }\n",
       "\n",
       "    .dataframe tbody tr th {\n",
       "        vertical-align: top;\n",
       "    }\n",
       "\n",
       "    .dataframe thead th {\n",
       "        text-align: right;\n",
       "    }\n",
       "</style>\n",
       "<table border=\"1\" class=\"dataframe\">\n",
       "  <thead>\n",
       "    <tr style=\"text-align: right;\">\n",
       "      <th></th>\n",
       "      <th>Label</th>\n",
       "      <th>F1</th>\n",
       "      <th>F_beta_5</th>\n",
       "      <th>F_beta_05</th>\n",
       "      <th>Recall</th>\n",
       "      <th>Precision</th>\n",
       "    </tr>\n",
       "  </thead>\n",
       "  <tbody>\n",
       "    <tr>\n",
       "      <th>0</th>\n",
       "      <td>1</td>\n",
       "      <td>0.819575</td>\n",
       "      <td>0.853837</td>\n",
       "      <td>0.798742</td>\n",
       "      <td>0.856822</td>\n",
       "      <td>0.785432</td>\n",
       "    </tr>\n",
       "    <tr>\n",
       "      <th>1</th>\n",
       "      <td>2</td>\n",
       "      <td>0.587951</td>\n",
       "      <td>0.621850</td>\n",
       "      <td>0.567831</td>\n",
       "      <td>0.624852</td>\n",
       "      <td>0.555166</td>\n",
       "    </tr>\n",
       "    <tr>\n",
       "      <th>2</th>\n",
       "      <td>3</td>\n",
       "      <td>0.695696</td>\n",
       "      <td>0.651502</td>\n",
       "      <td>0.727787</td>\n",
       "      <td>0.648071</td>\n",
       "      <td>0.750877</td>\n",
       "    </tr>\n",
       "  </tbody>\n",
       "</table>\n",
       "</div>"
      ],
      "text/plain": [
       "   Label        F1  F_beta_5  F_beta_05    Recall  Precision\n",
       "0      1  0.819575  0.853837   0.798742  0.856822   0.785432\n",
       "1      2  0.587951  0.621850   0.567831  0.624852   0.555166\n",
       "2      3  0.695696  0.651502   0.727787  0.648071   0.750877"
      ]
     },
     "metadata": {},
     "output_type": "display_data"
    },
    {
     "data": {
      "image/png": "[encoded data removed]",
      "text/plain": [
       "<Figure size 864x288 with 3 Axes>"
      ]
     },
     "metadata": {
      "needs_background": "light"
     },
     "output_type": "display_data"
    }
   ],
   "source": [
    "# fit the model and print the metrics\n",
    "sgd = grid_search_fit_predict(SGDClassifier, param_grid, f5_scorer, \n",
    "                              X_train_1_prc_scaled, y_train_1_prc, X_test_scaled, y_test)"
   ]
  },
  {
   "cell_type": "markdown",
   "metadata": {},
   "source": [
    "As we can see, Multinomial Naive Bayes was the only model that was able to achieve our target F-beta of 70%. Now let's see if we can improve on this result."
   ]
  },
  {
   "cell_type": "markdown",
   "metadata": {},
   "source": [
    "## Pick merged vs. unmerged labels"
   ]
  },
  {
   "cell_type": "markdown",
   "metadata": {},
   "source": [
    "First, I would like to explore if merging 1s and 3s in one category might improve model performance."
   ]
  },
  {
   "cell_type": "code",
   "execution_count": 32,
   "metadata": {},
   "outputs": [
    {
     "name": "stdout",
     "output_type": "stream",
     "text": [
      "Accuracy score: 0.9370218310179224\n"
     ]
    },
    {
     "data": {
      "text/html": [
       "<div>\n",
       "<style scoped>\n",
       "    .dataframe tbody tr th:only-of-type {\n",
       "        vertical-align: middle;\n",
       "    }\n",
       "\n",
       "    .dataframe tbody tr th {\n",
       "        vertical-align: top;\n",
       "    }\n",
       "\n",
       "    .dataframe thead th {\n",
       "        text-align: right;\n",
       "    }\n",
       "</style>\n",
       "<table border=\"1\" class=\"dataframe\">\n",
       "  <thead>\n",
       "    <tr style=\"text-align: right;\">\n",
       "      <th></th>\n",
       "      <th>Label</th>\n",
       "      <th>F1</th>\n",
       "      <th>F_beta_5</th>\n",
       "      <th>F_beta_05</th>\n",
       "      <th>Recall</th>\n",
       "      <th>Precision</th>\n",
       "    </tr>\n",
       "  </thead>\n",
       "  <tbody>\n",
       "    <tr>\n",
       "      <th>0</th>\n",
       "      <td>1</td>\n",
       "      <td>0.967323</td>\n",
       "      <td>0.939053</td>\n",
       "      <td>0.986630</td>\n",
       "      <td>0.936772</td>\n",
       "      <td>0.999934</td>\n",
       "    </tr>\n",
       "    <tr>\n",
       "      <th>1</th>\n",
       "      <td>2</td>\n",
       "      <td>0.133690</td>\n",
       "      <td>0.662215</td>\n",
       "      <td>0.088025</td>\n",
       "      <td>0.987566</td>\n",
       "      <td>0.071698</td>\n",
       "    </tr>\n",
       "  </tbody>\n",
       "</table>\n",
       "</div>"
      ],
      "text/plain": [
       "   Label        F1  F_beta_5  F_beta_05    Recall  Precision\n",
       "0      1  0.967323  0.939053   0.986630  0.936772   0.999934\n",
       "1      2  0.133690  0.662215   0.088025  0.987566   0.071698"
      ]
     },
     "metadata": {},
     "output_type": "display_data"
    },
    {
     "data": {
      "image/png": "[encoded data removed]",
      "text/plain": [
       "<Figure size 864x288 with 2 Axes>"
      ]
     },
     "metadata": {
      "needs_background": "light"
     },
     "output_type": "display_data"
    }
   ],
   "source": [
    "# fit the model and print the metrics\n",
    "bayes_1_perc_merged = clf_fit_predict(MultinomialNB, X_train_1_prc, y_train_1_prc_merged, X_test, y_test_merged)"
   ]
  },
  {
   "cell_type": "markdown",
   "metadata": {},
   "source": [
    "Interestingly, while accuracy increases dramatically after merging, F-beta actually degrades after this operation. Which probably means that merged categories are significantly different from each other to justify the split and avoid the model from being \"confused\" by a non-homogenous category."
   ]
  },
  {
   "cell_type": "markdown",
   "metadata": {},
   "source": [
    "## Pick the training set size"
   ]
  },
  {
   "cell_type": "markdown",
   "metadata": {},
   "source": [
    "Now I would like to explore if changing the size of the data set can drive additional improvement in model performance. As a reminder, we downsized the dataset to 1% of the entries for the model selection purposes. Now that we clarified the best model for our purposes (Multinomial Naive Bayes), we can try to train it on a larger dataset. Luckily, Naive Bayes also tends to scale much better than some other models, so this exercise actually have higher chances for success."
   ]
  },
  {
   "cell_type": "markdown",
   "metadata": {},
   "source": [
    "### Full size"
   ]
  },
  {
   "cell_type": "code",
   "execution_count": 33,
   "metadata": {},
   "outputs": [
    {
     "name": "stdout",
     "output_type": "stream",
     "text": [
      "Accuracy score: 0.7211591389102865\n"
     ]
    },
    {
     "data": {
      "text/html": [
       "<div>\n",
       "<style scoped>\n",
       "    .dataframe tbody tr th:only-of-type {\n",
       "        vertical-align: middle;\n",
       "    }\n",
       "\n",
       "    .dataframe tbody tr th {\n",
       "        vertical-align: top;\n",
       "    }\n",
       "\n",
       "    .dataframe thead th {\n",
       "        text-align: right;\n",
       "    }\n",
       "</style>\n",
       "<table border=\"1\" class=\"dataframe\">\n",
       "  <thead>\n",
       "    <tr style=\"text-align: right;\">\n",
       "      <th></th>\n",
       "      <th>Label</th>\n",
       "      <th>F1</th>\n",
       "      <th>F_beta_5</th>\n",
       "      <th>F_beta_05</th>\n",
       "      <th>Recall</th>\n",
       "      <th>Precision</th>\n",
       "    </tr>\n",
       "  </thead>\n",
       "  <tbody>\n",
       "    <tr>\n",
       "      <th>0</th>\n",
       "      <td>1</td>\n",
       "      <td>0.786019</td>\n",
       "      <td>0.757253</td>\n",
       "      <td>0.805918</td>\n",
       "      <td>0.754951</td>\n",
       "      <td>0.819754</td>\n",
       "    </tr>\n",
       "    <tr>\n",
       "      <th>1</th>\n",
       "      <td>2</td>\n",
       "      <td>0.164430</td>\n",
       "      <td>0.711655</td>\n",
       "      <td>0.109634</td>\n",
       "      <td>0.984764</td>\n",
       "      <td>0.089704</td>\n",
       "    </tr>\n",
       "    <tr>\n",
       "      <th>2</th>\n",
       "      <td>3</td>\n",
       "      <td>0.669290</td>\n",
       "      <td>0.667718</td>\n",
       "      <td>0.670316</td>\n",
       "      <td>0.667587</td>\n",
       "      <td>0.671002</td>\n",
       "    </tr>\n",
       "  </tbody>\n",
       "</table>\n",
       "</div>"
      ],
      "text/plain": [
       "   Label        F1  F_beta_5  F_beta_05    Recall  Precision\n",
       "0      1  0.786019  0.757253   0.805918  0.754951   0.819754\n",
       "1      2  0.164430  0.711655   0.109634  0.984764   0.089704\n",
       "2      3  0.669290  0.667718   0.670316  0.667587   0.671002"
      ]
     },
     "metadata": {},
     "output_type": "display_data"
    },
    {
     "data": {
      "image/png": "[encoded data removed]",
      "text/plain": [
       "<Figure size 864x288 with 3 Axes>"
      ]
     },
     "metadata": {
      "needs_background": "light"
     },
     "output_type": "display_data"
    }
   ],
   "source": [
    "# fit the model and print the metrics\n",
    "bayes_full = clf_fit_predict(MultinomialNB, X_train, y_train, X_test, y_test)"
   ]
  },
  {
   "cell_type": "markdown",
   "metadata": {},
   "source": [
    "### 0.1% sample"
   ]
  },
  {
   "cell_type": "code",
   "execution_count": 34,
   "metadata": {},
   "outputs": [
    {
     "name": "stdout",
     "output_type": "stream",
     "text": [
      "Accuracy score: 0.7172153070012388\n"
     ]
    },
    {
     "data": {
      "text/html": [
       "<div>\n",
       "<style scoped>\n",
       "    .dataframe tbody tr th:only-of-type {\n",
       "        vertical-align: middle;\n",
       "    }\n",
       "\n",
       "    .dataframe tbody tr th {\n",
       "        vertical-align: top;\n",
       "    }\n",
       "\n",
       "    .dataframe thead th {\n",
       "        text-align: right;\n",
       "    }\n",
       "</style>\n",
       "<table border=\"1\" class=\"dataframe\">\n",
       "  <thead>\n",
       "    <tr style=\"text-align: right;\">\n",
       "      <th></th>\n",
       "      <th>Label</th>\n",
       "      <th>F1</th>\n",
       "      <th>F_beta_5</th>\n",
       "      <th>F_beta_05</th>\n",
       "      <th>Recall</th>\n",
       "      <th>Precision</th>\n",
       "    </tr>\n",
       "  </thead>\n",
       "  <tbody>\n",
       "    <tr>\n",
       "      <th>0</th>\n",
       "      <td>1</td>\n",
       "      <td>0.785279</td>\n",
       "      <td>0.757775</td>\n",
       "      <td>0.804254</td>\n",
       "      <td>0.755569</td>\n",
       "      <td>0.817421</td>\n",
       "    </tr>\n",
       "    <tr>\n",
       "      <th>1</th>\n",
       "      <td>2</td>\n",
       "      <td>0.151082</td>\n",
       "      <td>0.692846</td>\n",
       "      <td>0.100170</td>\n",
       "      <td>0.988119</td>\n",
       "      <td>0.081794</td>\n",
       "    </tr>\n",
       "    <tr>\n",
       "      <th>2</th>\n",
       "      <td>3</td>\n",
       "      <td>0.664636</td>\n",
       "      <td>0.657358</td>\n",
       "      <td>0.669453</td>\n",
       "      <td>0.656759</td>\n",
       "      <td>0.672704</td>\n",
       "    </tr>\n",
       "  </tbody>\n",
       "</table>\n",
       "</div>"
      ],
      "text/plain": [
       "   Label        F1  F_beta_5  F_beta_05    Recall  Precision\n",
       "0      1  0.785279  0.757775   0.804254  0.755569   0.817421\n",
       "1      2  0.151082  0.692846   0.100170  0.988119   0.081794\n",
       "2      3  0.664636  0.657358   0.669453  0.656759   0.672704"
      ]
     },
     "metadata": {},
     "output_type": "display_data"
    },
    {
     "data": {
      "image/png": "[encoded data removed]",
      "text/plain": [
       "<Figure size 864x288 with 3 Axes>"
      ]
     },
     "metadata": {
      "needs_background": "light"
     },
     "output_type": "display_data"
    }
   ],
   "source": [
    "# fit the model and print the metrics\n",
    "bayes_01_perc = clf_fit_predict(MultinomialNB, X_train_01_prc, y_train_01_prc, X_test, y_test)"
   ]
  },
  {
   "cell_type": "markdown",
   "metadata": {},
   "source": [
    "As we can see, Multinomial Naive Bayes trained on the full data set turned out to be the winner among all the options that we explored in this project. It not only achieved a target F-beta of 70% for label 2, but also surpassed it to reach 71%."
   ]
  },
  {
   "cell_type": "markdown",
   "metadata": {},
   "source": [
    "## Save the winning model"
   ]
  },
  {
   "cell_type": "code",
   "execution_count": 35,
   "metadata": {},
   "outputs": [
    {
     "data": {
      "text/plain": [
       "['files/bayes_full.joblib']"
      ]
     },
     "execution_count": 35,
     "metadata": {},
     "output_type": "execute_result"
    }
   ],
   "source": [
    "from joblib import dump, load\n",
    "dump(bayes_full, 'files/bayes_full.joblib')"
   ]
  },
  {
   "cell_type": "code",
   "execution_count": null,
   "metadata": {},
   "outputs": [],
   "source": []
  }
 ],
 "metadata": {
  "kernelspec": {
   "display_name": "Python 3",
   "language": "python",
   "name": "python3"
  },
  "language_info": {
   "codemirror_mode": {
    "name": "ipython",
    "version": 3
   },
   "file_extension": ".py",
   "mimetype": "text/x-python",
   "name": "python",
   "nbconvert_exporter": "python",
   "pygments_lexer": "ipython3",
   "version": "3.7.1"
  }
 },
 "nbformat": 4,
 "nbformat_minor": 2
}
