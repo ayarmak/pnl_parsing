{
 "cells": [
  {
   "cell_type": "markdown",
   "metadata": {},
   "source": [
    "# 4. Feature selection"
   ]
  },
  {
   "cell_type": "markdown",
   "metadata": {},
   "source": [
    "Our data set most probably includes thousands and thousands of unique words. Making each of them separate features would be completely unreasonable - and unnecessary. Instead, I will choose a subset of most impactful words that I would then use in feature engineering."
   ]
  },
  {
   "cell_type": "markdown",
   "metadata": {},
   "source": [
    "## Table of Contents"
   ]
  },
  {
   "cell_type": "markdown",
   "metadata": {},
   "source": [
    "1. [Load pre-processed data](#Load-pre-processed-data)\n",
    "1. [Identify most frequent words](#Identify-most-frequent-words)\n",
    "1. [Build frequency matrix](#Build-frequency-matrix)\n",
    "1. [Define inputs for feature selection](#Define-inputs-for-feature-selection)\n",
    "1. [Use Chi-squared to select best features](#Use-Chi-squared-to-select-best-features)\n",
    "1. [Plot the results](#Plot-the-results)\n",
    "1. [Save best features](#Save-best-features)"
   ]
  },
  {
   "cell_type": "code",
   "execution_count": 1,
   "metadata": {},
   "outputs": [],
   "source": [
    "import numpy as np\n",
    "import pandas as pd\n",
    "from collections import Counter\n",
    "from sklearn.preprocessing import OneHotEncoder\n",
    "from sklearn.feature_selection import SelectKBest, chi2\n",
    "from scipy.sparse import csr_matrix, csc_matrix, lil_matrix, save_npz, load_npz\n",
    "import matplotlib.pyplot as plt\n",
    "%matplotlib inline"
   ]
  },
  {
   "cell_type": "markdown",
   "metadata": {},
   "source": [
    "## Load pre-processed data"
   ]
  },
  {
   "cell_type": "code",
   "execution_count": 2,
   "metadata": {},
   "outputs": [
    {
     "data": {
      "text/plain": [
       "['company', 'train', 'labels', 'words']"
      ]
     },
     "execution_count": 2,
     "metadata": {},
     "output_type": "execute_result"
    }
   ],
   "source": [
    "data = np.load('files/data.npz', allow_pickle=True)\n",
    "data.files"
   ]
  },
  {
   "cell_type": "markdown",
   "metadata": {},
   "source": [
    "## Identify most frequent words"
   ]
  },
  {
   "cell_type": "markdown",
   "metadata": {},
   "source": [
    "First, I would like to filter out a long tail of highly infrequent words. Let's look at the total number of words available in the data set:"
   ]
  },
  {
   "cell_type": "code",
   "execution_count": 3,
   "metadata": {},
   "outputs": [],
   "source": [
    "# narrow down to training set only\n",
    "data_train = data['words'][data['train']]"
   ]
  },
  {
   "cell_type": "code",
   "execution_count": 4,
   "metadata": {},
   "outputs": [],
   "source": [
    "words, counts = np.unique(data_train, return_counts=True)"
   ]
  },
  {
   "cell_type": "code",
   "execution_count": 5,
   "metadata": {},
   "outputs": [
    {
     "data": {
      "text/plain": [
       "(105510,)"
      ]
     },
     "execution_count": 5,
     "metadata": {},
     "output_type": "execute_result"
    }
   ],
   "source": [
    "words.shape"
   ]
  },
  {
   "cell_type": "markdown",
   "metadata": {},
   "source": [
    "As we can see, this gives us a total of 100K+ words. Even at the feature selection phase, working with an array so large might be problematic. However, applying even a relatively \"safe\" filter of 100+ minimum word count can allow us to dramatically reduce the total number of features to explore:"
   ]
  },
  {
   "cell_type": "code",
   "execution_count": 6,
   "metadata": {},
   "outputs": [
    {
     "data": {
      "text/plain": [
       "(6374,)"
      ]
     },
     "execution_count": 6,
     "metadata": {},
     "output_type": "execute_result"
    }
   ],
   "source": [
    "# filter down to only words with a minimum count of 100\n",
    "top_features = words[counts > 100]\n",
    "top_features.shape"
   ]
  },
  {
   "cell_type": "markdown",
   "metadata": {},
   "source": [
    "## Build frequency matrix"
   ]
  },
  {
   "cell_type": "markdown",
   "metadata": {},
   "source": [
    "With the more frequent words in mind, we now need to construct an array of words and their frequencies, grouped by labels (i.e., report section)"
   ]
  },
  {
   "cell_type": "code",
   "execution_count": 7,
   "metadata": {},
   "outputs": [],
   "source": [
    "# narrow down to training set only\n",
    "labels_train = data['labels'][data['train']]\n",
    "labels_unique = np.unique(labels_train)"
   ]
  },
  {
   "cell_type": "code",
   "execution_count": 8,
   "metadata": {},
   "outputs": [],
   "source": [
    "# calculate word frequencies for each label\n",
    "frequencies = [np.unique(data_train[labels_train==i], return_counts=True) for i in labels_unique]"
   ]
  },
  {
   "cell_type": "code",
   "execution_count": 9,
   "metadata": {},
   "outputs": [],
   "source": [
    "# add labels to each frequency group\n",
    "frequencies = [np.array([np.repeat(labels_unique[i], words.shape[0]), words, counts]) \\\n",
    "               for i, (words, counts) in enumerate(frequencies)]"
   ]
  },
  {
   "cell_type": "code",
   "execution_count": 10,
   "metadata": {},
   "outputs": [],
   "source": [
    "# stack frequency groups to create a single matrix with labels, words, and word counts\n",
    "frequencies = np.hstack(frequencies).T"
   ]
  },
  {
   "cell_type": "markdown",
   "metadata": {},
   "source": [
    "## Define inputs for feature selection"
   ]
  },
  {
   "cell_type": "markdown",
   "metadata": {},
   "source": [
    "Now that we have a frequency matrix we can define inputs that would go into our feature selection model:"
   ]
  },
  {
   "cell_type": "code",
   "execution_count": 11,
   "metadata": {},
   "outputs": [],
   "source": [
    "# define a top feature index\n",
    "is_top_feature = np.isin(frequencies[:, 1], top_features)"
   ]
  },
  {
   "cell_type": "code",
   "execution_count": 12,
   "metadata": {},
   "outputs": [],
   "source": [
    "# one-hot encode words in the frequency matrix\n",
    "enc = OneHotEncoder()\n",
    "one_hot = enc.fit_transform(frequencies[is_top_feature, 1].reshape(-1, 1))"
   ]
  },
  {
   "cell_type": "code",
   "execution_count": 13,
   "metadata": {},
   "outputs": [
    {
     "data": {
      "text/plain": [
       "(14034, 6374)"
      ]
     },
     "execution_count": 13,
     "metadata": {},
     "output_type": "execute_result"
    }
   ],
   "source": [
    "# multiply one-hot encoded words by their word counts to create the inputs array\n",
    "counts = frequencies[is_top_feature, 2].astype(np.int64).reshape(-1, 1)\n",
    "X = one_hot.multiply(counts)\n",
    "X.shape"
   ]
  },
  {
   "cell_type": "code",
   "execution_count": 14,
   "metadata": {},
   "outputs": [
    {
     "data": {
      "text/plain": [
       "(14034,)"
      ]
     },
     "execution_count": 14,
     "metadata": {},
     "output_type": "execute_result"
    }
   ],
   "source": [
    "# filter down to labels for top features only to create the target array\n",
    "y = frequencies[is_top_feature, 0].astype(np.int64)\n",
    "y.shape"
   ]
  },
  {
   "cell_type": "markdown",
   "metadata": {},
   "source": [
    "## Use Chi-squared to select best features"
   ]
  },
  {
   "cell_type": "markdown",
   "metadata": {},
   "source": [
    "Now I will use `SelectKBest` model from `sklearn.feature_selection` module to pull 100 best features based on their Chi-squared scores. Chi-squared would estimate whether relative frequency of each word is significantly different across the three sections of the report (used as labels in our Chi-squared test):"
   ]
  },
  {
   "cell_type": "code",
   "execution_count": 15,
   "metadata": {},
   "outputs": [],
   "source": [
    "ch2 = SelectKBest(chi2, 100)"
   ]
  },
  {
   "cell_type": "code",
   "execution_count": 16,
   "metadata": {},
   "outputs": [
    {
     "data": {
      "text/plain": [
       "SelectKBest(k=100, score_func=<function chi2 at 0x1a1ab4b268>)"
      ]
     },
     "execution_count": 16,
     "metadata": {},
     "output_type": "execute_result"
    }
   ],
   "source": [
    "# fit the model\n",
    "ch2.fit(X, y)"
   ]
  },
  {
   "cell_type": "code",
   "execution_count": 17,
   "metadata": {},
   "outputs": [],
   "source": [
    "# pull the indices of top features\n",
    "feat_indices = ch2.get_support()"
   ]
  },
  {
   "cell_type": "code",
   "execution_count": 18,
   "metadata": {},
   "outputs": [
    {
     "data": {
      "text/plain": [
       "array(['', '<number>', 'a', 'ability', 'able', 'act', 'addition',\n",
       "       'additional', 'adverse', 'adversely', 'affect', 'also', 'an',\n",
       "       'and', 'any', 'are', 'as', 'assets', 'at', 'be', 'believe',\n",
       "       'business', 'by', 'can', 'capital', 'clinical', 'companies',\n",
       "       'company', 'compared', 'condition', 'continue', 'could',\n",
       "       'customers', 'data', 'december', 'deferred', 'development', 'do',\n",
       "       'factors', 'fair', 'financial', 'for', 'forward-looking', 'from',\n",
       "       'future', 'growth', 'have', 'if', 'in', 'including', 'increase',\n",
       "       'increased', 'industry', 'information', 'is', 'item', 'laws',\n",
       "       'market', 'marketing', 'may', 'million', 'more', 'new', 'not',\n",
       "       'note', 'obtain', 'of', 'on', 'operations', 'or', 'other', 'our',\n",
       "       'product', 'products', 'regulations', 'regulatory', 'required',\n",
       "       'requirements', 'result', 'results', 'risks', 'sales',\n",
       "       'securities', 'services', 'stock', 'subject', 'such', 'tax',\n",
       "       'that', 'the', 'their', 'these', 'this', 'to', 'us', 'value', 'we',\n",
       "       'which', 'will', 'with'], dtype=object)"
      ]
     },
     "execution_count": 18,
     "metadata": {},
     "output_type": "execute_result"
    }
   ],
   "source": [
    "# pull the names of top features\n",
    "best_features = enc.categories_[0][feat_indices]\n",
    "best_features"
   ]
  },
  {
   "cell_type": "markdown",
   "metadata": {},
   "source": [
    "## Plot the results"
   ]
  },
  {
   "cell_type": "markdown",
   "metadata": {},
   "source": [
    "To illustrate that remaining features represent a \"long tail\" with significantly lower Chi-squared scores and higher p-values, let's create a chart plotting feature rank vs. Chi-squared score (log scale, on the left) and p-value (log scale, on the right):"
   ]
  },
  {
   "cell_type": "code",
   "execution_count": 19,
   "metadata": {},
   "outputs": [],
   "source": [
    "ch2_df = pd.DataFrame({'feature': enc.categories_[0], 'score': ch2.scores_, 'pval': ch2.pvalues_})\n",
    "ch2_df.sort_values(by='score', ascending=False, inplace=True)"
   ]
  },
  {
   "cell_type": "code",
   "execution_count": 20,
   "metadata": {
    "scrolled": true
   },
   "outputs": [
    {
     "data": {
      "image/png": "[encoded data removed]",
      "text/plain": [
       "<Figure size 432x288 with 2 Axes>"
      ]
     },
     "metadata": {
      "needs_background": "light"
     },
     "output_type": "display_data"
    }
   ],
   "source": [
    "fig, ax = plt.subplots()\n",
    "x = range(1, ch2_df.shape[0]+1)\n",
    "ax.scatter(x=x, y=ch2_df.score, s=1, label='Chi squared')\n",
    "ax.set_ylabel('Chi squared')\n",
    "ax.set_yscale('log')\n",
    "ax.set_xlabel('Feature Rank')\n",
    "\n",
    "ax2 = ax.twinx()\n",
    "ax2.scatter(x=x, y = ch2_df.pval, color='grey', s=1, label='P-value')\n",
    "ax2.set_ylim((0, 0.1))\n",
    "ax2.set_yscale('log')\n",
    "ax2.set_ylabel('P-value')\n",
    "\n",
    "ax.axvline(100, color='red', ls='--', label='suggested cutoff')\n",
    "ax.set_title('Chi Squared by feature rank', fontweight='bold')\n",
    "\n",
    "ax.legend(bbox_to_anchor=(0.992, 0.65), markerscale=5, frameon=False)\n",
    "ax2.legend(bbox_to_anchor=(0.85, 0.51), markerscale=5, frameon=False);"
   ]
  },
  {
   "cell_type": "markdown",
   "metadata": {},
   "source": [
    "As we can see, features below our suggested cutoff of top 100 features have significantly lower Chi-squared score (mostly in 1,000-s range and below vs. top 100 features having scores around 10 - 100K) and - for majority of them - a really high p-value."
   ]
  },
  {
   "cell_type": "markdown",
   "metadata": {},
   "source": [
    "## Save best features"
   ]
  },
  {
   "cell_type": "code",
   "execution_count": 21,
   "metadata": {},
   "outputs": [],
   "source": [
    "# Save best features into a file for future re-use\n",
    "np.savez('files/best_features.npz', best_features=best_features)"
   ]
  },
  {
   "cell_type": "code",
   "execution_count": null,
   "metadata": {},
   "outputs": [],
   "source": []
  }
 ],
 "metadata": {
  "kernelspec": {
   "display_name": "Python 3",
   "language": "python",
   "name": "python3"
  },
  "language_info": {
   "codemirror_mode": {
    "name": "ipython",
    "version": 3
   },
   "file_extension": ".py",
   "mimetype": "text/x-python",
   "name": "python",
   "nbconvert_exporter": "python",
   "pygments_lexer": "ipython3",
   "version": "3.7.1"
  }
 },
 "nbformat": 4,
 "nbformat_minor": 2
}
